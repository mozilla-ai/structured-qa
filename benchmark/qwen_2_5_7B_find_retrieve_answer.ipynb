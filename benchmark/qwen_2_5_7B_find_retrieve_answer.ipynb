{
  "cells": [
    {
      "cell_type": "markdown",
      "metadata": {
        "id": "9RKWbX7BHEgr"
      },
      "source": [
        "# Structured Q&A"
      ]
    },
    {
      "cell_type": "markdown",
      "metadata": {
        "id": "PYuloevCHEgu"
      },
      "source": [
        "Source code: https://github.com/mozilla-ai/structured-qa"
      ]
    },
    {
      "cell_type": "markdown",
      "metadata": {
        "id": "pgYAsUQWHEgv"
      },
      "source": [
        "Docs: https://mozilla-ai.github.io/structured-qa"
      ]
    },
    {
      "cell_type": "markdown",
      "metadata": {
        "id": "EbFAX4heHEgv"
      },
      "source": [
        "## Installing dependencies"
      ]
    },
    {
      "cell_type": "code",
      "execution_count": null,
      "metadata": {
        "colab": {
          "base_uri": "https://localhost:8080/"
        },
        "id": "tk9uiWGn81j_",
        "outputId": "b75d8f37-168a-4ca7-dd23-121051d6c0fb"
      },
      "outputs": [],
      "source": [
        "%pip install --quiet https://github.com/abetlen/llama-cpp-python/releases/download/v0.3.4-cu122/llama_cpp_python-0.3.4-cp311-cp311-linux_x86_64.whl"
      ]
    },
    {
      "cell_type": "code",
      "execution_count": null,
      "metadata": {
        "colab": {
          "base_uri": "https://localhost:8080/"
        },
        "id": "2HoyF-xbHEgv",
        "outputId": "a44a894c-1079-470f-d323-578d05238768"
      },
      "outputs": [],
      "source": [
        "%pip install git+https://github.com/mozilla-ai/structured-qa.git@5-add-benchmark"
      ]
    },
    {
      "cell_type": "code",
      "execution_count": 2,
      "metadata": {
        "id": "lJs7zN4N8vhO"
      },
      "outputs": [],
      "source": []
    },
    {
      "cell_type": "code",
      "execution_count": null,
      "metadata": {
        "colab": {
          "base_uri": "https://localhost:8080/"
        },
        "id": "p_hsSGafHEgw",
        "outputId": "03e8238b-d5f4-4ced-99e7-041a4263b92d"
      },
      "outputs": [],
      "source": [
        "!wget https://raw.githubusercontent.com/mozilla-ai/structured-qa/refs/heads/5-add-benchmark/benchmark/structured_qa.csv"
      ]
    },
    {
      "cell_type": "markdown",
      "metadata": {
        "id": "0MDfM6cyHEgx"
      },
      "source": [
        "# Setup"
      ]
    },
    {
      "cell_type": "code",
      "execution_count": 4,
      "metadata": {
        "id": "5bLJE4U7HEgx"
      },
      "outputs": [],
      "source": [
        "import os\n",
        "\n",
        "os.environ[\"LOGURU_LEVEL\"] = \"INFO\""
      ]
    },
    {
      "cell_type": "code",
      "execution_count": 5,
      "metadata": {
        "id": "y3yUsRDWHEgy"
      },
      "outputs": [],
      "source": [
        "from loguru import logger"
      ]
    },
    {
      "cell_type": "markdown",
      "metadata": {
        "id": "AgpODLeJHEgy"
      },
      "source": [
        "## Function to Process a single Document"
      ]
    },
    {
      "cell_type": "code",
      "execution_count": 6,
      "metadata": {
        "id": "n6d8F7cYHEgy"
      },
      "outputs": [],
      "source": [
        "from structured_qa.config import FIND_PROMPT\n",
        "from structured_qa.preprocessing import document_to_sections_dir\n",
        "from structured_qa.workflow import find_retrieve_answer\n",
        "\n",
        "\n",
        "ANSWER_WITH_TYPE_PROMPT = \"\"\"\n",
        "You are a rigorous assistant answering questions.\n",
        "You must only answer based on the current information available which is:\n",
        "\n",
        "```\n",
        "{CURRENT_INFO}\n",
        "```\n",
        "\n",
        "If the current information available not enough to answer the question,\n",
        "you must return \"I need more info\" srting and nothing else:\n",
        "\n",
        "If the current information is enough to answer, you must return one of the following formats:\n",
        "- YES/NO (for boolean questions)\n",
        "- Number (for numeric questions)\n",
        "- Single letter (for multiple-choice questions)\n",
        "\"\"\"\n",
        "\n",
        "\n",
        "def process_document(\n",
        "    document_file,\n",
        "    document_data,\n",
        "    model,\n",
        "    find_prompt: str = FIND_PROMPT,\n",
        "    answer_prompt: str = ANSWER_WITH_TYPE_PROMPT,\n",
        "):\n",
        "    sections_dir = Path(\"sections\") / Path(document_file).stem\n",
        "    if not sections_dir.exists():\n",
        "        logger.info(\"Splitting document into sections\")\n",
        "        document_to_sections_dir(document_file, sections_dir)\n",
        "\n",
        "    logger.info(\"Predicting\")\n",
        "    answers = {}\n",
        "    sections = {}\n",
        "    for index, row in document_data.iterrows():\n",
        "        question = row[\"question\"]\n",
        "        logger.info(f\"Question: {question}\")\n",
        "        answer, sections_checked = find_retrieve_answer(\n",
        "            question, model, sections_dir, find_prompt, answer_prompt\n",
        "        )\n",
        "        logger.info(f\"Answer: {answer}\")\n",
        "        answers[index] = answer\n",
        "        sections[index] = sections_checked[-1] if sections_checked else None\n",
        "\n",
        "    return answers, sections"
      ]
    },
    {
      "cell_type": "markdown",
      "metadata": {
        "id": "GdlWjANdHEgz"
      },
      "source": [
        "## Load Model"
      ]
    },
    {
      "cell_type": "code",
      "execution_count": 7,
      "metadata": {
        "id": "9zx8nCaZHEgz"
      },
      "outputs": [],
      "source": [
        "from structured_qa.model_loaders import load_llama_cpp_model"
      ]
    },
    {
      "cell_type": "code",
      "execution_count": null,
      "metadata": {
        "colab": {
          "base_uri": "https://localhost:8080/",
          "height": 156,
          "referenced_widgets": [
            "79ed82485b234525976e17fc9ebe47de",
            "c35c62230dfe4c32b2c45632e691cd46",
            "cfeae74e2e3f44e9b2e2dbbb9c756bd8",
            "082c72195b2b4a13b0ca7cecf368cebf",
            "b09e7d3ff8cd498aa45faca3b390ac70",
            "5d98e9f3ef544194b6a99d94c1b56cd2",
            "83e32e91aff04efda8ca1efad07249cb",
            "d320191f9d7146f8b8ccd10e7ad6dd6d",
            "575b8c7136f846c9ab62e7a796350506",
            "96da7d2d05834aa98fe41ad43e5c2c62",
            "e2ae5284ec9349a4a920585c12419e33"
          ]
        },
        "id": "U4R84hHRHEgz",
        "outputId": "3c083d53-79db-4f8c-ef1a-a12754cb227f"
      },
      "outputs": [],
      "source": [
        "model = load_llama_cpp_model(\n",
        "    \"bartowski/Qwen2.5-7B-Instruct-GGUF/Qwen2.5-7B-Instruct-Q8_0.gguf\"\n",
        ")"
      ]
    },
    {
      "cell_type": "markdown",
      "metadata": {
        "id": "BEzqJJ1yHEgz"
      },
      "source": [
        "# Run Benchmark"
      ]
    },
    {
      "cell_type": "code",
      "execution_count": null,
      "metadata": {
        "colab": {
          "base_uri": "https://localhost:8080/"
        },
        "id": "-qtPf9RmHEgz",
        "outputId": "723ac0e9-23c4-470f-df81-1ec4065df532"
      },
      "outputs": [],
      "source": [
        "from pathlib import Path\n",
        "from urllib.request import urlretrieve\n",
        "\n",
        "import pandas as pd\n",
        "\n",
        "logger.info(\"Loading input data\")\n",
        "data = pd.read_csv(\"structured_qa.csv\")\n",
        "data[\"pred_answer\"] = [None] * len(data)\n",
        "data[\"pred_section\"] = [None] * len(data)\n",
        "\n",
        "for document_link, document_data in data.groupby(\"document\"):\n",
        "    logger.info(f\"Downloading document {document_link}\")\n",
        "    downloaded_document = Path(f\"{Path(document_link).name}.pdf\")\n",
        "    if not Path(downloaded_document).exists():\n",
        "        urlretrieve(document_link, downloaded_document)\n",
        "        logger.info(f\"Downloaded {document_link} to {downloaded_document}\")\n",
        "    else:\n",
        "        logger.info(f\"File {downloaded_document} already exists\")\n",
        "\n",
        "    answers, sections = process_document(downloaded_document, document_data, model)\n",
        "\n",
        "    for index in document_data.index:\n",
        "        data.loc[index, \"pred_answer\"] = str(answers[index]).upper()\n",
        "        data.loc[index, \"pred_section\"] = sections[index]\n",
        "\n",
        "data.to_csv(\"results.csv\")"
      ]
    },
    {
      "cell_type": "code",
      "execution_count": null,
      "metadata": {
        "colab": {
          "base_uri": "https://localhost:8080/",
          "height": 1000
        },
        "id": "3eW9TIKjHEgz",
        "outputId": "b82bcada-3c21-4d13-ee04-8b57eeb83c4c"
      },
      "outputs": [],
      "source": [
        "results = pd.read_csv(\"results.csv\")\n",
        "results.loc[results[\"answer\"] != results[\"pred_answer\"]]"
      ]
    },
    {
      "cell_type": "code",
      "execution_count": null,
      "metadata": {
        "colab": {
          "base_uri": "https://localhost:8080/"
        },
        "id": "AhenESELHEgz",
        "outputId": "7e08929e-1342-4705-b1b4-e8cac81c35a6"
      },
      "outputs": [],
      "source": [
        "accuracy = sum(results[\"answer\"] == results[\"pred_answer\"]) / len(results)\n",
        "accuracy"
      ]
    }
  ],
  "metadata": {
    "accelerator": "GPU",
    "colab": {
      "gpuType": "T4",
      "provenance": []
    },
    "kernelspec": {
      "display_name": "Python 3",
      "name": "python3"
    },
    "language_info": {
      "name": "python",
      "version": "3.10.12"
    },
    "widgets": {
      "application/vnd.jupyter.widget-state+json": {
        "082c72195b2b4a13b0ca7cecf368cebf": {
          "model_module": "@jupyter-widgets/controls",
          "model_module_version": "1.5.0",
          "model_name": "HTMLModel",
          "state": {
            "_dom_classes": [],
            "_model_module": "@jupyter-widgets/controls",
            "_model_module_version": "1.5.0",
            "_model_name": "HTMLModel",
            "_view_count": null,
            "_view_module": "@jupyter-widgets/controls",
            "_view_module_version": "1.5.0",
            "_view_name": "HTMLView",
            "description": "",
            "description_tooltip": null,
            "layout": "IPY_MODEL_96da7d2d05834aa98fe41ad43e5c2c62",
            "placeholder": "​",
            "style": "IPY_MODEL_e2ae5284ec9349a4a920585c12419e33",
            "value": " 8.10G/8.10G [05:55&lt;00:00, 22.8MB/s]"
          }
        },
        "575b8c7136f846c9ab62e7a796350506": {
          "model_module": "@jupyter-widgets/controls",
          "model_module_version": "1.5.0",
          "model_name": "ProgressStyleModel",
          "state": {
            "_model_module": "@jupyter-widgets/controls",
            "_model_module_version": "1.5.0",
            "_model_name": "ProgressStyleModel",
            "_view_count": null,
            "_view_module": "@jupyter-widgets/base",
            "_view_module_version": "1.2.0",
            "_view_name": "StyleView",
            "bar_color": null,
            "description_width": ""
          }
        },
        "5d98e9f3ef544194b6a99d94c1b56cd2": {
          "model_module": "@jupyter-widgets/base",
          "model_module_version": "1.2.0",
          "model_name": "LayoutModel",
          "state": {
            "_model_module": "@jupyter-widgets/base",
            "_model_module_version": "1.2.0",
            "_model_name": "LayoutModel",
            "_view_count": null,
            "_view_module": "@jupyter-widgets/base",
            "_view_module_version": "1.2.0",
            "_view_name": "LayoutView",
            "align_content": null,
            "align_items": null,
            "align_self": null,
            "border": null,
            "bottom": null,
            "display": null,
            "flex": null,
            "flex_flow": null,
            "grid_area": null,
            "grid_auto_columns": null,
            "grid_auto_flow": null,
            "grid_auto_rows": null,
            "grid_column": null,
            "grid_gap": null,
            "grid_row": null,
            "grid_template_areas": null,
            "grid_template_columns": null,
            "grid_template_rows": null,
            "height": null,
            "justify_content": null,
            "justify_items": null,
            "left": null,
            "margin": null,
            "max_height": null,
            "max_width": null,
            "min_height": null,
            "min_width": null,
            "object_fit": null,
            "object_position": null,
            "order": null,
            "overflow": null,
            "overflow_x": null,
            "overflow_y": null,
            "padding": null,
            "right": null,
            "top": null,
            "visibility": null,
            "width": null
          }
        },
        "79ed82485b234525976e17fc9ebe47de": {
          "model_module": "@jupyter-widgets/controls",
          "model_module_version": "1.5.0",
          "model_name": "HBoxModel",
          "state": {
            "_dom_classes": [],
            "_model_module": "@jupyter-widgets/controls",
            "_model_module_version": "1.5.0",
            "_model_name": "HBoxModel",
            "_view_count": null,
            "_view_module": "@jupyter-widgets/controls",
            "_view_module_version": "1.5.0",
            "_view_name": "HBoxView",
            "box_style": "",
            "children": [
              "IPY_MODEL_c35c62230dfe4c32b2c45632e691cd46",
              "IPY_MODEL_cfeae74e2e3f44e9b2e2dbbb9c756bd8",
              "IPY_MODEL_082c72195b2b4a13b0ca7cecf368cebf"
            ],
            "layout": "IPY_MODEL_b09e7d3ff8cd498aa45faca3b390ac70"
          }
        },
        "83e32e91aff04efda8ca1efad07249cb": {
          "model_module": "@jupyter-widgets/controls",
          "model_module_version": "1.5.0",
          "model_name": "DescriptionStyleModel",
          "state": {
            "_model_module": "@jupyter-widgets/controls",
            "_model_module_version": "1.5.0",
            "_model_name": "DescriptionStyleModel",
            "_view_count": null,
            "_view_module": "@jupyter-widgets/base",
            "_view_module_version": "1.2.0",
            "_view_name": "StyleView",
            "description_width": ""
          }
        },
        "96da7d2d05834aa98fe41ad43e5c2c62": {
          "model_module": "@jupyter-widgets/base",
          "model_module_version": "1.2.0",
          "model_name": "LayoutModel",
          "state": {
            "_model_module": "@jupyter-widgets/base",
            "_model_module_version": "1.2.0",
            "_model_name": "LayoutModel",
            "_view_count": null,
            "_view_module": "@jupyter-widgets/base",
            "_view_module_version": "1.2.0",
            "_view_name": "LayoutView",
            "align_content": null,
            "align_items": null,
            "align_self": null,
            "border": null,
            "bottom": null,
            "display": null,
            "flex": null,
            "flex_flow": null,
            "grid_area": null,
            "grid_auto_columns": null,
            "grid_auto_flow": null,
            "grid_auto_rows": null,
            "grid_column": null,
            "grid_gap": null,
            "grid_row": null,
            "grid_template_areas": null,
            "grid_template_columns": null,
            "grid_template_rows": null,
            "height": null,
            "justify_content": null,
            "justify_items": null,
            "left": null,
            "margin": null,
            "max_height": null,
            "max_width": null,
            "min_height": null,
            "min_width": null,
            "object_fit": null,
            "object_position": null,
            "order": null,
            "overflow": null,
            "overflow_x": null,
            "overflow_y": null,
            "padding": null,
            "right": null,
            "top": null,
            "visibility": null,
            "width": null
          }
        },
        "b09e7d3ff8cd498aa45faca3b390ac70": {
          "model_module": "@jupyter-widgets/base",
          "model_module_version": "1.2.0",
          "model_name": "LayoutModel",
          "state": {
            "_model_module": "@jupyter-widgets/base",
            "_model_module_version": "1.2.0",
            "_model_name": "LayoutModel",
            "_view_count": null,
            "_view_module": "@jupyter-widgets/base",
            "_view_module_version": "1.2.0",
            "_view_name": "LayoutView",
            "align_content": null,
            "align_items": null,
            "align_self": null,
            "border": null,
            "bottom": null,
            "display": null,
            "flex": null,
            "flex_flow": null,
            "grid_area": null,
            "grid_auto_columns": null,
            "grid_auto_flow": null,
            "grid_auto_rows": null,
            "grid_column": null,
            "grid_gap": null,
            "grid_row": null,
            "grid_template_areas": null,
            "grid_template_columns": null,
            "grid_template_rows": null,
            "height": null,
            "justify_content": null,
            "justify_items": null,
            "left": null,
            "margin": null,
            "max_height": null,
            "max_width": null,
            "min_height": null,
            "min_width": null,
            "object_fit": null,
            "object_position": null,
            "order": null,
            "overflow": null,
            "overflow_x": null,
            "overflow_y": null,
            "padding": null,
            "right": null,
            "top": null,
            "visibility": null,
            "width": null
          }
        },
        "c35c62230dfe4c32b2c45632e691cd46": {
          "model_module": "@jupyter-widgets/controls",
          "model_module_version": "1.5.0",
          "model_name": "HTMLModel",
          "state": {
            "_dom_classes": [],
            "_model_module": "@jupyter-widgets/controls",
            "_model_module_version": "1.5.0",
            "_model_name": "HTMLModel",
            "_view_count": null,
            "_view_module": "@jupyter-widgets/controls",
            "_view_module_version": "1.5.0",
            "_view_name": "HTMLView",
            "description": "",
            "description_tooltip": null,
            "layout": "IPY_MODEL_5d98e9f3ef544194b6a99d94c1b56cd2",
            "placeholder": "​",
            "style": "IPY_MODEL_83e32e91aff04efda8ca1efad07249cb",
            "value": "Qwen2.5-7B-Instruct-Q8_0.gguf: 100%"
          }
        },
        "cfeae74e2e3f44e9b2e2dbbb9c756bd8": {
          "model_module": "@jupyter-widgets/controls",
          "model_module_version": "1.5.0",
          "model_name": "FloatProgressModel",
          "state": {
            "_dom_classes": [],
            "_model_module": "@jupyter-widgets/controls",
            "_model_module_version": "1.5.0",
            "_model_name": "FloatProgressModel",
            "_view_count": null,
            "_view_module": "@jupyter-widgets/controls",
            "_view_module_version": "1.5.0",
            "_view_name": "ProgressView",
            "bar_style": "success",
            "description": "",
            "description_tooltip": null,
            "layout": "IPY_MODEL_d320191f9d7146f8b8ccd10e7ad6dd6d",
            "max": 8098525888,
            "min": 0,
            "orientation": "horizontal",
            "style": "IPY_MODEL_575b8c7136f846c9ab62e7a796350506",
            "value": 8098525888
          }
        },
        "d320191f9d7146f8b8ccd10e7ad6dd6d": {
          "model_module": "@jupyter-widgets/base",
          "model_module_version": "1.2.0",
          "model_name": "LayoutModel",
          "state": {
            "_model_module": "@jupyter-widgets/base",
            "_model_module_version": "1.2.0",
            "_model_name": "LayoutModel",
            "_view_count": null,
            "_view_module": "@jupyter-widgets/base",
            "_view_module_version": "1.2.0",
            "_view_name": "LayoutView",
            "align_content": null,
            "align_items": null,
            "align_self": null,
            "border": null,
            "bottom": null,
            "display": null,
            "flex": null,
            "flex_flow": null,
            "grid_area": null,
            "grid_auto_columns": null,
            "grid_auto_flow": null,
            "grid_auto_rows": null,
            "grid_column": null,
            "grid_gap": null,
            "grid_row": null,
            "grid_template_areas": null,
            "grid_template_columns": null,
            "grid_template_rows": null,
            "height": null,
            "justify_content": null,
            "justify_items": null,
            "left": null,
            "margin": null,
            "max_height": null,
            "max_width": null,
            "min_height": null,
            "min_width": null,
            "object_fit": null,
            "object_position": null,
            "order": null,
            "overflow": null,
            "overflow_x": null,
            "overflow_y": null,
            "padding": null,
            "right": null,
            "top": null,
            "visibility": null,
            "width": null
          }
        },
        "e2ae5284ec9349a4a920585c12419e33": {
          "model_module": "@jupyter-widgets/controls",
          "model_module_version": "1.5.0",
          "model_name": "DescriptionStyleModel",
          "state": {
            "_model_module": "@jupyter-widgets/controls",
            "_model_module_version": "1.5.0",
            "_model_name": "DescriptionStyleModel",
            "_view_count": null,
            "_view_module": "@jupyter-widgets/base",
            "_view_module_version": "1.2.0",
            "_view_name": "StyleView",
            "description_width": ""
          }
        }
      }
    }
  },
  "nbformat": 4,
  "nbformat_minor": 0
}
