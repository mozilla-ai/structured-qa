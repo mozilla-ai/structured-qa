{
  "cells": [
    {
      "cell_type": "markdown",
      "metadata": {
        "id": "oD2lVadPlyhR"
      },
      "source": [
        "# Structured Q&A"
      ]
    },
    {
      "cell_type": "markdown",
      "metadata": {
        "id": "JZeb4ABvlyhS"
      },
      "source": [
        "Source code: https://github.com/mozilla-ai/structured-qa"
      ]
    },
    {
      "cell_type": "markdown",
      "metadata": {
        "id": "77aI1i7vlyhS"
      },
      "source": [
        "Docs: https://mozilla-ai.github.io/structured-qa"
      ]
    },
    {
      "cell_type": "markdown",
      "metadata": {
        "id": "atlPXFshlyhS"
      },
      "source": [
        "## Installing dependencies"
      ]
    },
    {
      "cell_type": "code",
      "execution_count": 12,
      "metadata": {
        "colab": {
          "base_uri": "https://localhost:8080/"
        },
        "id": "QrgOGtuGlyhT",
        "outputId": "ef47af4b-6bee-4dda-c559-e4e5fee1c54b"
      },
      "outputs": [
        {
          "name": "stdout",
          "output_type": "stream",
          "text": [
            "fatal: destination path 'structured-qa' already exists and is not an empty directory.\n"
          ]
        }
      ],
      "source": [
        "!git clone --single-branch --branch 5-add-benchmark https://github.com/mozilla-ai/structured-qa"
      ]
    },
    {
      "cell_type": "code",
      "execution_count": 13,
      "metadata": {
        "colab": {
          "base_uri": "https://localhost:8080/",
          "height": 1000
        },
        "id": "S22kTrfPlyhU",
        "outputId": "ae9617bf-00f7-4b50-d59d-538b285f4eb5"
      },
      "outputs": [
        {
          "name": "stdout",
          "output_type": "stream",
          "text": [
            "Processing ./structured-qa\n",
            "  Installing build dependencies ... \u001b[?25l\u001b[?25hdone\n",
            "  Getting requirements to build wheel ... \u001b[?25l\u001b[?25hdone\n",
            "  Preparing metadata (pyproject.toml) ... \u001b[?25l\u001b[?25hdone\n",
            "Requirement already satisfied: fire in /usr/local/lib/python3.11/dist-packages (from structured-qa==0.3.3.dev111+g97049d6) (0.7.0)\n",
            "Requirement already satisfied: huggingface-hub in /usr/local/lib/python3.11/dist-packages (from structured-qa==0.3.3.dev111+g97049d6) (0.27.1)\n",
            "Requirement already satisfied: loguru in /usr/local/lib/python3.11/dist-packages (from structured-qa==0.3.3.dev111+g97049d6) (0.7.3)\n",
            "Requirement already satisfied: pydantic in /usr/local/lib/python3.11/dist-packages (from structured-qa==0.3.3.dev111+g97049d6) (2.10.6)\n",
            "Requirement already satisfied: pymupdf4llm in /usr/local/lib/python3.11/dist-packages (from structured-qa==0.3.3.dev111+g97049d6) (0.0.17)\n",
            "Requirement already satisfied: pyyaml in /usr/local/lib/python3.11/dist-packages (from structured-qa==0.3.3.dev111+g97049d6) (6.0.2)\n",
            "Requirement already satisfied: rapidfuzz in /usr/local/lib/python3.11/dist-packages (from structured-qa==0.3.3.dev111+g97049d6) (3.12.1)\n",
            "Requirement already satisfied: streamlit in /usr/local/lib/python3.11/dist-packages (from structured-qa==0.3.3.dev111+g97049d6) (1.41.1)\n",
            "Requirement already satisfied: termcolor in /usr/local/lib/python3.11/dist-packages (from fire->structured-qa==0.3.3.dev111+g97049d6) (2.5.0)\n",
            "Requirement already satisfied: filelock in /usr/local/lib/python3.11/dist-packages (from huggingface-hub->structured-qa==0.3.3.dev111+g97049d6) (3.17.0)\n",
            "Requirement already satisfied: fsspec>=2023.5.0 in /usr/local/lib/python3.11/dist-packages (from huggingface-hub->structured-qa==0.3.3.dev111+g97049d6) (2024.10.0)\n",
            "Requirement already satisfied: packaging>=20.9 in /usr/local/lib/python3.11/dist-packages (from huggingface-hub->structured-qa==0.3.3.dev111+g97049d6) (24.2)\n",
            "Requirement already satisfied: requests in /usr/local/lib/python3.11/dist-packages (from huggingface-hub->structured-qa==0.3.3.dev111+g97049d6) (2.32.3)\n",
            "Requirement already satisfied: tqdm>=4.42.1 in /usr/local/lib/python3.11/dist-packages (from huggingface-hub->structured-qa==0.3.3.dev111+g97049d6) (4.67.1)\n",
            "Requirement already satisfied: typing-extensions>=3.7.4.3 in /usr/local/lib/python3.11/dist-packages (from huggingface-hub->structured-qa==0.3.3.dev111+g97049d6) (4.12.2)\n",
            "Requirement already satisfied: annotated-types>=0.6.0 in /usr/local/lib/python3.11/dist-packages (from pydantic->structured-qa==0.3.3.dev111+g97049d6) (0.7.0)\n",
            "Requirement already satisfied: pydantic-core==2.27.2 in /usr/local/lib/python3.11/dist-packages (from pydantic->structured-qa==0.3.3.dev111+g97049d6) (2.27.2)\n",
            "Requirement already satisfied: pymupdf>=1.24.10 in /usr/local/lib/python3.11/dist-packages (from pymupdf4llm->structured-qa==0.3.3.dev111+g97049d6) (1.25.2)\n",
            "Requirement already satisfied: altair<6,>=4.0 in /usr/local/lib/python3.11/dist-packages (from streamlit->structured-qa==0.3.3.dev111+g97049d6) (5.5.0)\n",
            "Requirement already satisfied: blinker<2,>=1.0.0 in /usr/local/lib/python3.11/dist-packages (from streamlit->structured-qa==0.3.3.dev111+g97049d6) (1.9.0)\n",
            "Requirement already satisfied: cachetools<6,>=4.0 in /usr/local/lib/python3.11/dist-packages (from streamlit->structured-qa==0.3.3.dev111+g97049d6) (5.5.1)\n",
            "Requirement already satisfied: click<9,>=7.0 in /usr/local/lib/python3.11/dist-packages (from streamlit->structured-qa==0.3.3.dev111+g97049d6) (8.1.8)\n",
            "Requirement already satisfied: numpy<3,>=1.23 in /usr/local/lib/python3.11/dist-packages (from streamlit->structured-qa==0.3.3.dev111+g97049d6) (1.26.4)\n",
            "Requirement already satisfied: pandas<3,>=1.4.0 in /usr/local/lib/python3.11/dist-packages (from streamlit->structured-qa==0.3.3.dev111+g97049d6) (2.2.2)\n",
            "Requirement already satisfied: pillow<12,>=7.1.0 in /usr/local/lib/python3.11/dist-packages (from streamlit->structured-qa==0.3.3.dev111+g97049d6) (11.1.0)\n",
            "Requirement already satisfied: protobuf<6,>=3.20 in /usr/local/lib/python3.11/dist-packages (from streamlit->structured-qa==0.3.3.dev111+g97049d6) (4.25.6)\n",
            "Requirement already satisfied: pyarrow>=7.0 in /usr/local/lib/python3.11/dist-packages (from streamlit->structured-qa==0.3.3.dev111+g97049d6) (17.0.0)\n",
            "Requirement already satisfied: rich<14,>=10.14.0 in /usr/local/lib/python3.11/dist-packages (from streamlit->structured-qa==0.3.3.dev111+g97049d6) (13.9.4)\n",
            "Requirement already satisfied: tenacity<10,>=8.1.0 in /usr/local/lib/python3.11/dist-packages (from streamlit->structured-qa==0.3.3.dev111+g97049d6) (9.0.0)\n",
            "Requirement already satisfied: toml<2,>=0.10.1 in /usr/local/lib/python3.11/dist-packages (from streamlit->structured-qa==0.3.3.dev111+g97049d6) (0.10.2)\n",
            "Requirement already satisfied: watchdog<7,>=2.1.5 in /usr/local/lib/python3.11/dist-packages (from streamlit->structured-qa==0.3.3.dev111+g97049d6) (6.0.0)\n",
            "Requirement already satisfied: gitpython!=3.1.19,<4,>=3.0.7 in /usr/local/lib/python3.11/dist-packages (from streamlit->structured-qa==0.3.3.dev111+g97049d6) (3.1.44)\n",
            "Requirement already satisfied: pydeck<1,>=0.8.0b4 in /usr/local/lib/python3.11/dist-packages (from streamlit->structured-qa==0.3.3.dev111+g97049d6) (0.9.1)\n",
            "Requirement already satisfied: tornado<7,>=6.0.3 in /usr/local/lib/python3.11/dist-packages (from streamlit->structured-qa==0.3.3.dev111+g97049d6) (6.4.2)\n",
            "Requirement already satisfied: jinja2 in /usr/local/lib/python3.11/dist-packages (from altair<6,>=4.0->streamlit->structured-qa==0.3.3.dev111+g97049d6) (3.1.5)\n",
            "Requirement already satisfied: jsonschema>=3.0 in /usr/local/lib/python3.11/dist-packages (from altair<6,>=4.0->streamlit->structured-qa==0.3.3.dev111+g97049d6) (4.23.0)\n",
            "Requirement already satisfied: narwhals>=1.14.2 in /usr/local/lib/python3.11/dist-packages (from altair<6,>=4.0->streamlit->structured-qa==0.3.3.dev111+g97049d6) (1.24.1)\n",
            "Requirement already satisfied: gitdb<5,>=4.0.1 in /usr/local/lib/python3.11/dist-packages (from gitpython!=3.1.19,<4,>=3.0.7->streamlit->structured-qa==0.3.3.dev111+g97049d6) (4.0.12)\n",
            "Requirement already satisfied: python-dateutil>=2.8.2 in /usr/local/lib/python3.11/dist-packages (from pandas<3,>=1.4.0->streamlit->structured-qa==0.3.3.dev111+g97049d6) (2.8.2)\n",
            "Requirement already satisfied: pytz>=2020.1 in /usr/local/lib/python3.11/dist-packages (from pandas<3,>=1.4.0->streamlit->structured-qa==0.3.3.dev111+g97049d6) (2024.2)\n",
            "Requirement already satisfied: tzdata>=2022.7 in /usr/local/lib/python3.11/dist-packages (from pandas<3,>=1.4.0->streamlit->structured-qa==0.3.3.dev111+g97049d6) (2025.1)\n",
            "Requirement already satisfied: charset-normalizer<4,>=2 in /usr/local/lib/python3.11/dist-packages (from requests->huggingface-hub->structured-qa==0.3.3.dev111+g97049d6) (3.4.1)\n",
            "Requirement already satisfied: idna<4,>=2.5 in /usr/local/lib/python3.11/dist-packages (from requests->huggingface-hub->structured-qa==0.3.3.dev111+g97049d6) (3.10)\n",
            "Requirement already satisfied: urllib3<3,>=1.21.1 in /usr/local/lib/python3.11/dist-packages (from requests->huggingface-hub->structured-qa==0.3.3.dev111+g97049d6) (2.3.0)\n",
            "Requirement already satisfied: certifi>=2017.4.17 in /usr/local/lib/python3.11/dist-packages (from requests->huggingface-hub->structured-qa==0.3.3.dev111+g97049d6) (2024.12.14)\n",
            "Requirement already satisfied: markdown-it-py>=2.2.0 in /usr/local/lib/python3.11/dist-packages (from rich<14,>=10.14.0->streamlit->structured-qa==0.3.3.dev111+g97049d6) (3.0.0)\n",
            "Requirement already satisfied: pygments<3.0.0,>=2.13.0 in /usr/local/lib/python3.11/dist-packages (from rich<14,>=10.14.0->streamlit->structured-qa==0.3.3.dev111+g97049d6) (2.18.0)\n",
            "Requirement already satisfied: smmap<6,>=3.0.1 in /usr/local/lib/python3.11/dist-packages (from gitdb<5,>=4.0.1->gitpython!=3.1.19,<4,>=3.0.7->streamlit->structured-qa==0.3.3.dev111+g97049d6) (5.0.2)\n",
            "Requirement already satisfied: MarkupSafe>=2.0 in /usr/local/lib/python3.11/dist-packages (from jinja2->altair<6,>=4.0->streamlit->structured-qa==0.3.3.dev111+g97049d6) (3.0.2)\n",
            "Requirement already satisfied: attrs>=22.2.0 in /usr/local/lib/python3.11/dist-packages (from jsonschema>=3.0->altair<6,>=4.0->streamlit->structured-qa==0.3.3.dev111+g97049d6) (25.1.0)\n",
            "Requirement already satisfied: jsonschema-specifications>=2023.03.6 in /usr/local/lib/python3.11/dist-packages (from jsonschema>=3.0->altair<6,>=4.0->streamlit->structured-qa==0.3.3.dev111+g97049d6) (2024.10.1)\n",
            "Requirement already satisfied: referencing>=0.28.4 in /usr/local/lib/python3.11/dist-packages (from jsonschema>=3.0->altair<6,>=4.0->streamlit->structured-qa==0.3.3.dev111+g97049d6) (0.36.2)\n",
            "Requirement already satisfied: rpds-py>=0.7.1 in /usr/local/lib/python3.11/dist-packages (from jsonschema>=3.0->altair<6,>=4.0->streamlit->structured-qa==0.3.3.dev111+g97049d6) (0.22.3)\n",
            "Requirement already satisfied: mdurl~=0.1 in /usr/local/lib/python3.11/dist-packages (from markdown-it-py>=2.2.0->rich<14,>=10.14.0->streamlit->structured-qa==0.3.3.dev111+g97049d6) (0.1.2)\n",
            "Requirement already satisfied: six>=1.5 in /usr/local/lib/python3.11/dist-packages (from python-dateutil>=2.8.2->pandas<3,>=1.4.0->streamlit->structured-qa==0.3.3.dev111+g97049d6) (1.17.0)\n",
            "Building wheels for collected packages: structured-qa\n",
            "  Building wheel for structured-qa (pyproject.toml) ... \u001b[?25l\u001b[?25hdone\n",
            "  Created wheel for structured-qa: filename=structured_qa-0.3.3.dev111+g97049d6-py3-none-any.whl size=13247 sha256=a18780844c04a51ee112c6177e9ed610585c15d00f2e5f2dfefa1dcd4d27f151\n",
            "  Stored in directory: /root/.cache/pip/wheels/b8/d1/8b/1585580e7787d68790745653775eb485d52a0d5386b616c827\n",
            "Successfully built structured-qa\n",
            "Installing collected packages: structured-qa\n",
            "  Attempting uninstall: structured-qa\n",
            "    Found existing installation: structured-qa 0.3.3.dev111+g97049d6\n",
            "    Uninstalling structured-qa-0.3.3.dev111+g97049d6:\n",
            "      Successfully uninstalled structured-qa-0.3.3.dev111+g97049d6\n",
            "Successfully installed structured-qa-0.3.3.dev111+g97049d6\n"
          ]
        },
        {
          "data": {
            "application/vnd.colab-display-data+json": {
              "id": "9e4f0553c0ad49d7a1731d9def243c03",
              "pip_warning": {
                "packages": [
                  "structured_qa"
                ]
              }
            }
          },
          "metadata": {},
          "output_type": "display_data"
        }
      ],
      "source": [
        "%pip install ./structured-qa"
      ]
    },
    {
      "cell_type": "markdown",
      "metadata": {
        "id": "qwHWJEsulyhV"
      },
      "source": [
        "# Setup"
      ]
    },
    {
      "cell_type": "code",
      "execution_count": 14,
      "metadata": {
        "id": "iJ812u2llyhV"
      },
      "outputs": [],
      "source": [
        "import os\n",
        "import google.generativeai as genai\n",
        "from google.colab.userdata import get, SecretNotFoundError\n",
        "\n",
        "try:\n",
        "    genai.configure(api_key=get(\"GOOGLE_API_KEY\"))\n",
        "except SecretNotFoundError as e:\n",
        "    raise RuntimeError(\"Please set the GOOGLE_API_KEY secret to your API key\") from e\n",
        "os.environ[\"LOGURU_LEVEL\"] = \"INFO\""
      ]
    },
    {
      "cell_type": "code",
      "execution_count": 15,
      "metadata": {
        "id": "jWlaKC5qXZrh"
      },
      "outputs": [],
      "source": [
        "from loguru import logger"
      ]
    },
    {
      "cell_type": "markdown",
      "metadata": {
        "id": "MKijHC_ClyhX"
      },
      "source": [
        "## Function to Process all questions for a single Section"
      ]
    },
    {
      "cell_type": "code",
      "execution_count": 16,
      "metadata": {
        "id": "oFU-eYMVlyhX"
      },
      "outputs": [],
      "source": [
        "import json\n",
        "import time\n",
        "\n",
        "\n",
        "def process_section_questions(\n",
        "    section_file,\n",
        "    section_data,\n",
        "    model,\n",
        "):\n",
        "    logger.info(\"Predicting\")\n",
        "    answers = {}\n",
        "    sections = {}\n",
        "    for index, row in section_data.iterrows():\n",
        "        if model.n > 0 and model.n % 10 == 0:\n",
        "            logger.info(\"Waiting for 60 seconds\")\n",
        "            time.sleep(60)\n",
        "        question = row[\"question\"]\n",
        "        logger.info(f\"Question: {question}\")\n",
        "        response = model.model.generate_content([section_file.read_text(), question])\n",
        "        answers[index] = response.text\n",
        "        sections[index] = None\n",
        "        model.n += 1\n",
        "    return answers, sections"
      ]
    },
    {
      "cell_type": "markdown",
      "metadata": {
        "id": "VQAof5xtlyhY"
      },
      "source": [
        "## Load Model"
      ]
    },
    {
      "cell_type": "code",
      "execution_count": 17,
      "metadata": {
        "id": "6RoEbYj3XZri"
      },
      "outputs": [],
      "source": [
        "from structured_qa.model_loaders import load_gemini_model"
      ]
    },
    {
      "cell_type": "code",
      "execution_count": 18,
      "metadata": {
        "id": "whtSJwdrlyhZ"
      },
      "outputs": [],
      "source": [
        "SYSTEM_PROMPT = \"\"\"\n",
        "You are a rigorous assistant answering questions.\n",
        "You must only answer based on the current information available which is:\n",
        "\n",
        "```\n",
        "{CURRENT_INFO}\n",
        "```\n",
        "\n",
        "If the current information available not enough to answer the question,\n",
        "you must return \"I need more info\" srting and nothing else:\n",
        "\n",
        "If the current information is enough to answer, you must return one of the following formats:\n",
        "- YES/NO (for boolean questions)\n",
        "- Number (for numeric questions)\n",
        "- Single letter (for multiple-choice questions)\n",
        "\"\"\""
      ]
    },
    {
      "cell_type": "code",
      "execution_count": 19,
      "metadata": {
        "id": "ObsvwlNslyhZ"
      },
      "outputs": [],
      "source": [
        "model = load_gemini_model(\"gemini-2.0-flash-exp\", system_prompt=SYSTEM_PROMPT)\n",
        "model.n = 0"
      ]
    },
    {
      "cell_type": "markdown",
      "metadata": {
        "id": "W97jWzzOlyhZ"
      },
      "source": [
        "# Run Benchmark"
      ]
    },
    {
      "cell_type": "code",
      "execution_count": 20,
      "metadata": {
        "colab": {
          "base_uri": "https://localhost:8080/",
          "height": 1000
        },
        "id": "AZBwRnfjlyhZ",
        "outputId": "9d34f3ea-1b9a-40e2-a6ac-9d1d6c00d6c6"
      },
      "outputs": [
        {
          "name": "stderr",
          "output_type": "stream",
          "text": [
            "\u001b[32m2025-02-04 15:05:23.818\u001b[0m | \u001b[1mINFO    \u001b[0m | \u001b[36m__main__\u001b[0m:\u001b[36m<cell line: 0>\u001b[0m:\u001b[36m6\u001b[0m - \u001b[1mLoading input data\u001b[0m\n",
            "\u001b[32m2025-02-04 15:05:23.835\u001b[0m | \u001b[1mINFO    \u001b[0m | \u001b[36m__main__\u001b[0m:\u001b[36mprocess_section_questions\u001b[0m:\u001b[36m10\u001b[0m - \u001b[1mPredicting\u001b[0m\n",
            "\u001b[32m2025-02-04 15:05:23.838\u001b[0m | \u001b[1mINFO    \u001b[0m | \u001b[36m__main__\u001b[0m:\u001b[36mprocess_section_questions\u001b[0m:\u001b[36m18\u001b[0m - \u001b[1mQuestion: In billions, how many trainable parameters does GPT-3 have?\u001b[0m\n",
            "\u001b[32m2025-02-04 15:05:25.515\u001b[0m | \u001b[1mINFO    \u001b[0m | \u001b[36m__main__\u001b[0m:\u001b[36mprocess_section_questions\u001b[0m:\u001b[36m18\u001b[0m - \u001b[1mQuestion: Does LoRA introduce additional inference latency compared to full fine-tuning?\u001b[0m\n",
            "\u001b[32m2025-02-04 15:05:26.763\u001b[0m | \u001b[1mINFO    \u001b[0m | \u001b[36m__main__\u001b[0m:\u001b[36mprocess_section_questions\u001b[0m:\u001b[36m10\u001b[0m - \u001b[1mPredicting\u001b[0m\n",
            "\u001b[32m2025-02-04 15:05:26.765\u001b[0m | \u001b[1mINFO    \u001b[0m | \u001b[36m__main__\u001b[0m:\u001b[36mprocess_section_questions\u001b[0m:\u001b[36m18\u001b[0m - \u001b[1mQuestion: What fire resistance must vertical partitions have? -A: EI30 -B: EI60 -C: EI90\u001b[0m\n",
            "\u001b[32m2025-02-04 15:05:27.970\u001b[0m | \u001b[1mINFO    \u001b[0m | \u001b[36m__main__\u001b[0m:\u001b[36mprocess_section_questions\u001b[0m:\u001b[36m10\u001b[0m - \u001b[1mPredicting\u001b[0m\n",
            "\u001b[32m2025-02-04 15:05:27.975\u001b[0m | \u001b[1mINFO    \u001b[0m | \u001b[36m__main__\u001b[0m:\u001b[36mprocess_section_questions\u001b[0m:\u001b[36m18\u001b[0m - \u001b[1mQuestion: When are virtual addresses assigned to graph allocations? -A: At the moment the graph is executed in the GPU. -B: When the allocation is actually being used by the execution. -C: When the node is created.\u001b[0m\n",
            "\u001b[32m2025-02-04 15:05:29.300\u001b[0m | \u001b[1mINFO    \u001b[0m | \u001b[36m__main__\u001b[0m:\u001b[36mprocess_section_questions\u001b[0m:\u001b[36m18\u001b[0m - \u001b[1mQuestion: What do graph memory nodes represent in a CUDA graph? -A: Actions like allocating or freeing the memory. -B: Code that executes on the CPU to allocate memory. -C: The control flow and branching within a graph.\u001b[0m\n",
            "\u001b[32m2025-02-04 15:05:30.883\u001b[0m | \u001b[1mINFO    \u001b[0m | \u001b[36m__main__\u001b[0m:\u001b[36mprocess_section_questions\u001b[0m:\u001b[36m18\u001b[0m - \u001b[1mQuestion: When does a graph allocation's lifetime end? -A: Only when the application shuts down. -B: When the execution reaches the freeing graph node, `cudaFreeAsync()`, or `cudaFree()`. -C: Only when the graph is destroyed.\u001b[0m\n",
            "\u001b[32m2025-02-04 15:05:32.118\u001b[0m | \u001b[1mINFO    \u001b[0m | \u001b[36m__main__\u001b[0m:\u001b[36mprocess_section_questions\u001b[0m:\u001b[36m18\u001b[0m - \u001b[1mQuestion: How must operations accessing graph memory be ordered within a graph? -A: Before the allocation node and after the freeing node. -B: After any previous GPU execution. -C: After the allocation node and before the freeing operation.\u001b[0m\n",
            "\u001b[32m2025-02-04 15:05:33.421\u001b[0m | \u001b[1mINFO    \u001b[0m | \u001b[36m__main__\u001b[0m:\u001b[36mprocess_section_questions\u001b[0m:\u001b[36m10\u001b[0m - \u001b[1mPredicting\u001b[0m\n",
            "\u001b[32m2025-02-04 15:05:33.424\u001b[0m | \u001b[1mINFO    \u001b[0m | \u001b[36m__main__\u001b[0m:\u001b[36mprocess_section_questions\u001b[0m:\u001b[36m18\u001b[0m - \u001b[1mQuestion: What proportion of the pre-training data was from Github? -A: 4.5% -B: 15.0% -C: 4%\u001b[0m\n",
            "\u001b[32m2025-02-04 15:05:34.819\u001b[0m | \u001b[1mINFO    \u001b[0m | \u001b[36m__main__\u001b[0m:\u001b[36mprocess_section_questions\u001b[0m:\u001b[36m18\u001b[0m - \u001b[1mQuestion: How many languages did the Wikipedia data cover?\u001b[0m\n",
            "\u001b[32m2025-02-04 15:05:36.265\u001b[0m | \u001b[1mINFO    \u001b[0m | \u001b[36m__main__\u001b[0m:\u001b[36mprocess_section_questions\u001b[0m:\u001b[36m10\u001b[0m - \u001b[1mPredicting\u001b[0m\n",
            "\u001b[32m2025-02-04 15:05:36.268\u001b[0m | \u001b[1mINFO    \u001b[0m | \u001b[36m__main__\u001b[0m:\u001b[36mprocess_section_questions\u001b[0m:\u001b[36m18\u001b[0m - \u001b[1mQuestion: Which type of water must be supplied in a toilet sink? -A: hot -B: cold -C: hot and cold\u001b[0m\n",
            "\u001b[32m2025-02-04 15:05:37.575\u001b[0m | \u001b[1mINFO    \u001b[0m | \u001b[36m__main__\u001b[0m:\u001b[36mprocess_section_questions\u001b[0m:\u001b[36m10\u001b[0m - \u001b[1mPredicting\u001b[0m\n",
            "\u001b[32m2025-02-04 15:05:37.578\u001b[0m | \u001b[1mINFO    \u001b[0m | \u001b[36m__main__\u001b[0m:\u001b[36mprocess_section_questions\u001b[0m:\u001b[36m15\u001b[0m - \u001b[1mWaiting for 60 seconds\u001b[0m\n",
            "\u001b[32m2025-02-04 15:06:37.582\u001b[0m | \u001b[1mINFO    \u001b[0m | \u001b[36m__main__\u001b[0m:\u001b[36mprocess_section_questions\u001b[0m:\u001b[36m18\u001b[0m - \u001b[1mQuestion: What optimizer was used for training? -A: AdamW -B: Adam -C: SGD\u001b[0m\n",
            "\u001b[32m2025-02-04 15:06:39.209\u001b[0m | \u001b[1mINFO    \u001b[0m | \u001b[36m__main__\u001b[0m:\u001b[36mprocess_section_questions\u001b[0m:\u001b[36m18\u001b[0m - \u001b[1mQuestion: What value was used for the weight decay?\u001b[0m\n",
            "\u001b[32m2025-02-04 15:06:40.662\u001b[0m | \u001b[1mINFO    \u001b[0m | \u001b[36m__main__\u001b[0m:\u001b[36mprocess_section_questions\u001b[0m:\u001b[36m10\u001b[0m - \u001b[1mPredicting\u001b[0m\n",
            "\u001b[32m2025-02-04 15:06:40.664\u001b[0m | \u001b[1mINFO    \u001b[0m | \u001b[36m__main__\u001b[0m:\u001b[36mprocess_section_questions\u001b[0m:\u001b[36m18\u001b[0m - \u001b[1mQuestion: Can recurrent networks also be converted to decision trees?\u001b[0m\n",
            "\u001b[32m2025-02-04 15:06:41.911\u001b[0m | \u001b[1mINFO    \u001b[0m | \u001b[36m__main__\u001b[0m:\u001b[36mprocess_section_questions\u001b[0m:\u001b[36m10\u001b[0m - \u001b[1mPredicting\u001b[0m\n",
            "\u001b[32m2025-02-04 15:06:41.914\u001b[0m | \u001b[1mINFO    \u001b[0m | \u001b[36m__main__\u001b[0m:\u001b[36mprocess_section_questions\u001b[0m:\u001b[36m18\u001b[0m - \u001b[1mQuestion: What is the primary benefit of Lazy Loading? -A: It reduces memory overhead and saves initialization time. -B: It allows programs to load all kernels faster during initialization. -C: It makes CUDA programs easier to debug and optimize.\u001b[0m\n",
            "\u001b[32m2025-02-04 15:06:43.288\u001b[0m | \u001b[1mINFO    \u001b[0m | \u001b[36m__main__\u001b[0m:\u001b[36mprocess_section_questions\u001b[0m:\u001b[36m18\u001b[0m - \u001b[1mQuestion: Can you enable lazy loading by setting the env var `CUDA_MODULE_DATA_LOADING`?\u001b[0m\n",
            "\u001b[32m2025-02-04 15:06:44.561\u001b[0m | \u001b[1mINFO    \u001b[0m | \u001b[36m__main__\u001b[0m:\u001b[36mprocess_section_questions\u001b[0m:\u001b[36m10\u001b[0m - \u001b[1mPredicting\u001b[0m\n",
            "\u001b[32m2025-02-04 15:06:44.563\u001b[0m | \u001b[1mINFO    \u001b[0m | \u001b[36m__main__\u001b[0m:\u001b[36mprocess_section_questions\u001b[0m:\u001b[36m18\u001b[0m - \u001b[1mQuestion: Is Arithmetic reasoning is a task that language models often find very easy?\u001b[0m\n",
            "\u001b[32m2025-02-04 15:06:46.166\u001b[0m | \u001b[1mINFO    \u001b[0m | \u001b[36m__main__\u001b[0m:\u001b[36mprocess_section_questions\u001b[0m:\u001b[36m10\u001b[0m - \u001b[1mPredicting\u001b[0m\n",
            "\u001b[32m2025-02-04 15:06:46.168\u001b[0m | \u001b[1mINFO    \u001b[0m | \u001b[36m__main__\u001b[0m:\u001b[36mprocess_section_questions\u001b[0m:\u001b[36m18\u001b[0m - \u001b[1mQuestion: How many layers are in the toy model (y = x^2)?\u001b[0m\n",
            "\u001b[32m2025-02-04 15:06:47.668\u001b[0m | \u001b[1mINFO    \u001b[0m | \u001b[36m__main__\u001b[0m:\u001b[36mprocess_section_questions\u001b[0m:\u001b[36m18\u001b[0m - \u001b[1mQuestion: Does the toy model (y = x^2) use Sigmoid activation function?\u001b[0m\n",
            "\u001b[32m2025-02-04 15:06:49.055\u001b[0m | \u001b[1mINFO    \u001b[0m | \u001b[36m__main__\u001b[0m:\u001b[36mprocess_section_questions\u001b[0m:\u001b[36m18\u001b[0m - \u001b[1mQuestion: How many parameters are in the toy model (y = x^2) tree?\u001b[0m\n",
            "\u001b[32m2025-02-04 15:06:50.334\u001b[0m | \u001b[1mINFO    \u001b[0m | \u001b[36m__main__\u001b[0m:\u001b[36mprocess_section_questions\u001b[0m:\u001b[36m18\u001b[0m - \u001b[1mQuestion: How many layers are in the half-moon neural network?\u001b[0m\n",
            "\u001b[32m2025-02-04 15:06:51.606\u001b[0m | \u001b[1mINFO    \u001b[0m | \u001b[36m__main__\u001b[0m:\u001b[36mprocess_section_questions\u001b[0m:\u001b[36m15\u001b[0m - \u001b[1mWaiting for 60 seconds\u001b[0m\n",
            "\u001b[32m2025-02-04 15:07:51.607\u001b[0m | \u001b[1mINFO    \u001b[0m | \u001b[36m__main__\u001b[0m:\u001b[36mprocess_section_questions\u001b[0m:\u001b[36m18\u001b[0m - \u001b[1mQuestion: What is the main computational advantage of decision trees? -A: Less storage memory, -B: Fewer operations, -C: Lower accuracy\u001b[0m\n",
            "\u001b[32m2025-02-04 15:07:53.136\u001b[0m | \u001b[1mINFO    \u001b[0m | \u001b[36m__main__\u001b[0m:\u001b[36mprocess_section_questions\u001b[0m:\u001b[36m10\u001b[0m - \u001b[1mPredicting\u001b[0m\n",
            "\u001b[32m2025-02-04 15:07:53.138\u001b[0m | \u001b[1mINFO    \u001b[0m | \u001b[36m__main__\u001b[0m:\u001b[36mprocess_section_questions\u001b[0m:\u001b[36m18\u001b[0m - \u001b[1mQuestion: How many benchmarks were tested?\u001b[0m\n",
            "\u001b[32m2025-02-04 15:07:54.358\u001b[0m | \u001b[1mINFO    \u001b[0m | \u001b[36m__main__\u001b[0m:\u001b[36mprocess_section_questions\u001b[0m:\u001b[36m18\u001b[0m - \u001b[1mQuestion: Was the model compared against GPT-4?\u001b[0m\n",
            "\u001b[32m2025-02-04 15:07:55.956\u001b[0m | \u001b[1mINFO    \u001b[0m | \u001b[36m__main__\u001b[0m:\u001b[36mprocess_section_questions\u001b[0m:\u001b[36m10\u001b[0m - \u001b[1mPredicting\u001b[0m\n",
            "\u001b[32m2025-02-04 15:07:55.958\u001b[0m | \u001b[1mINFO    \u001b[0m | \u001b[36m__main__\u001b[0m:\u001b[36mprocess_section_questions\u001b[0m:\u001b[36m18\u001b[0m - \u001b[1mQuestion: What type of architecture does the model use? -A: decoder only -B: encoder only -C: encoder-decoder\u001b[0m\n",
            "\u001b[32m2025-02-04 15:07:57.531\u001b[0m | \u001b[1mINFO    \u001b[0m | \u001b[36m__main__\u001b[0m:\u001b[36mprocess_section_questions\u001b[0m:\u001b[36m10\u001b[0m - \u001b[1mPredicting\u001b[0m\n",
            "\u001b[32m2025-02-04 15:07:57.533\u001b[0m | \u001b[1mINFO    \u001b[0m | \u001b[36m__main__\u001b[0m:\u001b[36mprocess_section_questions\u001b[0m:\u001b[36m18\u001b[0m - \u001b[1mQuestion: How many layers compose the encoder?\u001b[0m\n",
            "\u001b[32m2025-02-04 15:07:59.133\u001b[0m | \u001b[1mINFO    \u001b[0m | \u001b[36m__main__\u001b[0m:\u001b[36mprocess_section_questions\u001b[0m:\u001b[36m18\u001b[0m - \u001b[1mQuestion: How many layers compose the decoder?\u001b[0m\n",
            "\u001b[32m2025-02-04 15:08:00.734\u001b[0m | \u001b[1mINFO    \u001b[0m | \u001b[36m__main__\u001b[0m:\u001b[36mprocess_section_questions\u001b[0m:\u001b[36m10\u001b[0m - \u001b[1mPredicting\u001b[0m\n",
            "\u001b[32m2025-02-04 15:08:00.736\u001b[0m | \u001b[1mINFO    \u001b[0m | \u001b[36m__main__\u001b[0m:\u001b[36mprocess_section_questions\u001b[0m:\u001b[36m18\u001b[0m - \u001b[1mQuestion: How many large language models were evaluated?\u001b[0m\n",
            "\u001b[32m2025-02-04 15:08:02.336\u001b[0m | \u001b[1mINFO    \u001b[0m | \u001b[36m__main__\u001b[0m:\u001b[36mprocess_section_questions\u001b[0m:\u001b[36m18\u001b[0m - \u001b[1mQuestion: How many benchmarks were used to evaluate arithmetic reasoning?\u001b[0m\n",
            "\u001b[32m2025-02-04 15:08:04.264\u001b[0m | \u001b[1mINFO    \u001b[0m | \u001b[36m__main__\u001b[0m:\u001b[36mprocess_section_questions\u001b[0m:\u001b[36m10\u001b[0m - \u001b[1mPredicting\u001b[0m\n",
            "\u001b[32m2025-02-04 15:08:04.266\u001b[0m | \u001b[1mINFO    \u001b[0m | \u001b[36m__main__\u001b[0m:\u001b[36mprocess_section_questions\u001b[0m:\u001b[36m18\u001b[0m - \u001b[1mQuestion: How many random samples were examined to understand model performance?\u001b[0m\n",
            "\u001b[32m2025-02-04 15:08:05.539\u001b[0m | \u001b[1mINFO    \u001b[0m | \u001b[36m__main__\u001b[0m:\u001b[36mprocess_section_questions\u001b[0m:\u001b[36m10\u001b[0m - \u001b[1mPredicting\u001b[0m\n",
            "\u001b[32m2025-02-04 15:08:05.541\u001b[0m | \u001b[1mINFO    \u001b[0m | \u001b[36m__main__\u001b[0m:\u001b[36mprocess_section_questions\u001b[0m:\u001b[36m18\u001b[0m - \u001b[1mQuestion: How many parallel attention heads are used?\u001b[0m\n",
            "\u001b[32m2025-02-04 15:08:07.470\u001b[0m | \u001b[1mINFO    \u001b[0m | \u001b[36m__main__\u001b[0m:\u001b[36mprocess_section_questions\u001b[0m:\u001b[36m10\u001b[0m - \u001b[1mPredicting\u001b[0m\n",
            "\u001b[32m2025-02-04 15:08:07.471\u001b[0m | \u001b[1mINFO    \u001b[0m | \u001b[36m__main__\u001b[0m:\u001b[36mprocess_section_questions\u001b[0m:\u001b[36m15\u001b[0m - \u001b[1mWaiting for 60 seconds\u001b[0m\n",
            "\u001b[32m2025-02-04 15:09:07.473\u001b[0m | \u001b[1mINFO    \u001b[0m | \u001b[36m__main__\u001b[0m:\u001b[36mprocess_section_questions\u001b[0m:\u001b[36m18\u001b[0m - \u001b[1mQuestion: Does the final model use learned embeddings for the input and output tokens?\u001b[0m\n",
            "\u001b[32m2025-02-04 15:09:08.999\u001b[0m | \u001b[1mINFO    \u001b[0m | \u001b[36m__main__\u001b[0m:\u001b[36mprocess_section_questions\u001b[0m:\u001b[36m10\u001b[0m - \u001b[1mPredicting\u001b[0m\n",
            "\u001b[32m2025-02-04 15:09:09.001\u001b[0m | \u001b[1mINFO    \u001b[0m | \u001b[36m__main__\u001b[0m:\u001b[36mprocess_section_questions\u001b[0m:\u001b[36m18\u001b[0m - \u001b[1mQuestion: How many annotators provided independent chains of thought?\u001b[0m\n",
            "\u001b[32m2025-02-04 15:09:10.607\u001b[0m | \u001b[1mINFO    \u001b[0m | \u001b[36m__main__\u001b[0m:\u001b[36mprocess_section_questions\u001b[0m:\u001b[36m10\u001b[0m - \u001b[1mPredicting\u001b[0m\n",
            "\u001b[32m2025-02-04 15:09:10.609\u001b[0m | \u001b[1mINFO    \u001b[0m | \u001b[36m__main__\u001b[0m:\u001b[36mprocess_section_questions\u001b[0m:\u001b[36m18\u001b[0m - \u001b[1mQuestion: Does the final model use learned positional embeddings?\u001b[0m\n",
            "\u001b[32m2025-02-04 15:09:11.957\u001b[0m | \u001b[1mINFO    \u001b[0m | \u001b[36m__main__\u001b[0m:\u001b[36mprocess_section_questions\u001b[0m:\u001b[36m10\u001b[0m - \u001b[1mPredicting\u001b[0m\n",
            "\u001b[32m2025-02-04 15:09:11.958\u001b[0m | \u001b[1mINFO    \u001b[0m | \u001b[36m__main__\u001b[0m:\u001b[36mprocess_section_questions\u001b[0m:\u001b[36m18\u001b[0m - \u001b[1mQuestion: Does LoRA work with any neural network containing dense layers?\u001b[0m\n",
            "\u001b[32m2025-02-04 15:09:13.204\u001b[0m | \u001b[1mINFO    \u001b[0m | \u001b[36m__main__\u001b[0m:\u001b[36mprocess_section_questions\u001b[0m:\u001b[36m10\u001b[0m - \u001b[1mPredicting\u001b[0m\n",
            "\u001b[32m2025-02-04 15:09:13.206\u001b[0m | \u001b[1mINFO    \u001b[0m | \u001b[36m__main__\u001b[0m:\u001b[36mprocess_section_questions\u001b[0m:\u001b[36m18\u001b[0m - \u001b[1mQuestion: What percentage is the daylight factor required for façades with exterior obstructions? -A: 0.7% -B: 80% -C: 0.77%\u001b[0m\n",
            "\u001b[32m2025-02-04 15:09:14.579\u001b[0m | \u001b[1mINFO    \u001b[0m | \u001b[36m__main__\u001b[0m:\u001b[36mprocess_section_questions\u001b[0m:\u001b[36m10\u001b[0m - \u001b[1mPredicting\u001b[0m\n",
            "\u001b[32m2025-02-04 15:09:14.581\u001b[0m | \u001b[1mINFO    \u001b[0m | \u001b[36m__main__\u001b[0m:\u001b[36mprocess_section_questions\u001b[0m:\u001b[36m18\u001b[0m - \u001b[1mQuestion: Can LLMs re-produce biases that exist in training data?\u001b[0m\n",
            "\u001b[32m2025-02-04 15:09:15.851\u001b[0m | \u001b[1mINFO    \u001b[0m | \u001b[36m__main__\u001b[0m:\u001b[36mprocess_section_questions\u001b[0m:\u001b[36m18\u001b[0m - \u001b[1mQuestion: Do authors consider the evaluations enough to fully comprehend the risks of the model?\u001b[0m\n",
            "\u001b[32m2025-02-04 15:09:17.223\u001b[0m | \u001b[1mINFO    \u001b[0m | \u001b[36m__main__\u001b[0m:\u001b[36mprocess_section_questions\u001b[0m:\u001b[36m10\u001b[0m - \u001b[1mPredicting\u001b[0m\n",
            "\u001b[32m2025-02-04 15:09:17.225\u001b[0m | \u001b[1mINFO    \u001b[0m | \u001b[36m__main__\u001b[0m:\u001b[36mprocess_section_questions\u001b[0m:\u001b[36m18\u001b[0m - \u001b[1mQuestion: Is symbolic reasoning usually simple for humans but challenging for language models?\u001b[0m\n",
            "\u001b[32m2025-02-04 15:09:19.002\u001b[0m | \u001b[1mINFO    \u001b[0m | \u001b[36m__main__\u001b[0m:\u001b[36mprocess_section_questions\u001b[0m:\u001b[36m18\u001b[0m - \u001b[1mQuestion: How many words have the example names that the model has seen for letter concatenation? -A: 3 -B: 2 -C: 4\u001b[0m\n",
            "\u001b[32m2025-02-04 15:09:20.398\u001b[0m | \u001b[1mINFO    \u001b[0m | \u001b[36m__main__\u001b[0m:\u001b[36mprocess_section_questions\u001b[0m:\u001b[36m18\u001b[0m - \u001b[1mQuestion: Which symbolic reasoning task is used as an out-of-domain evaluation? -A: Coin Flip -B: Tower of Hanoi -C: Chess puzzles\u001b[0m\n",
            "\u001b[32m2025-02-04 15:09:22.178\u001b[0m | \u001b[1mINFO    \u001b[0m | \u001b[36m__main__\u001b[0m:\u001b[36mprocess_section_questions\u001b[0m:\u001b[36m10\u001b[0m - \u001b[1mPredicting\u001b[0m\n",
            "\u001b[32m2025-02-04 15:09:22.180\u001b[0m | \u001b[1mINFO    \u001b[0m | \u001b[36m__main__\u001b[0m:\u001b[36mprocess_section_questions\u001b[0m:\u001b[36m15\u001b[0m - \u001b[1mWaiting for 60 seconds\u001b[0m\n",
            "\u001b[32m2025-02-04 15:10:22.183\u001b[0m | \u001b[1mINFO    \u001b[0m | \u001b[36m__main__\u001b[0m:\u001b[36mprocess_section_questions\u001b[0m:\u001b[36m18\u001b[0m - \u001b[1mQuestion: Does LLaMA compare worse than GPT-3 on average for the CrowS-Paris bias test?\u001b[0m\n",
            "\u001b[32m2025-02-04 15:10:24.390\u001b[0m | \u001b[1mINFO    \u001b[0m | \u001b[36m__main__\u001b[0m:\u001b[36mprocess_section_questions\u001b[0m:\u001b[36m10\u001b[0m - \u001b[1mPredicting\u001b[0m\n",
            "\u001b[32m2025-02-04 15:10:24.392\u001b[0m | \u001b[1mINFO    \u001b[0m | \u001b[36m__main__\u001b[0m:\u001b[36mprocess_section_questions\u001b[0m:\u001b[36m18\u001b[0m - \u001b[1mQuestion: How many GPUs were used for training?\u001b[0m\n",
            "\u001b[32m2025-02-04 15:10:26.018\u001b[0m | \u001b[1mINFO    \u001b[0m | \u001b[36m__main__\u001b[0m:\u001b[36mprocess_section_questions\u001b[0m:\u001b[36m18\u001b[0m - \u001b[1mQuestion: What type of GPUs were used for training? -A: NVIDIA A100 -B: NVIDIA P100 -C: NVIDIA T4\u001b[0m\n",
            "\u001b[32m2025-02-04 15:10:27.592\u001b[0m | \u001b[1mINFO    \u001b[0m | \u001b[36m__main__\u001b[0m:\u001b[36mprocess_section_questions\u001b[0m:\u001b[36m10\u001b[0m - \u001b[1mPredicting\u001b[0m\n",
            "\u001b[32m2025-02-04 15:10:27.594\u001b[0m | \u001b[1mINFO    \u001b[0m | \u001b[36m__main__\u001b[0m:\u001b[36mprocess_section_questions\u001b[0m:\u001b[36m18\u001b[0m - \u001b[1mQuestion: What is the maximum number of threads within a thread block?\u001b[0m\n",
            "\u001b[32m2025-02-04 15:10:28.841\u001b[0m | \u001b[1mINFO    \u001b[0m | \u001b[36m__main__\u001b[0m:\u001b[36mprocess_section_questions\u001b[0m:\u001b[36m18\u001b[0m - \u001b[1mQuestion: Can you identify a thread with a four-dimensional index?\u001b[0m\n",
            "\u001b[32m2025-02-04 15:10:30.213\u001b[0m | \u001b[1mINFO    \u001b[0m | \u001b[36m__main__\u001b[0m:\u001b[36mprocess_section_questions\u001b[0m:\u001b[36m10\u001b[0m - \u001b[1mPredicting\u001b[0m\n",
            "\u001b[32m2025-02-04 15:10:30.215\u001b[0m | \u001b[1mINFO    \u001b[0m | \u001b[36m__main__\u001b[0m:\u001b[36mprocess_section_questions\u001b[0m:\u001b[36m18\u001b[0m - \u001b[1mQuestion: What optimizer was used for training? -A: AdamW -B: Adam -C: SGD\u001b[0m\n",
            "\u001b[32m2025-02-04 15:10:31.461\u001b[0m | \u001b[1mINFO    \u001b[0m | \u001b[36m__main__\u001b[0m:\u001b[36mprocess_section_questions\u001b[0m:\u001b[36m18\u001b[0m - \u001b[1mQuestion: How many warmup steps were used?\u001b[0m\n",
            "\u001b[32m2025-02-04 15:10:33.366\u001b[0m | \u001b[1mINFO    \u001b[0m | \u001b[36m__main__\u001b[0m:\u001b[36mprocess_section_questions\u001b[0m:\u001b[36m10\u001b[0m - \u001b[1mPredicting\u001b[0m\n",
            "\u001b[32m2025-02-04 15:10:33.368\u001b[0m | \u001b[1mINFO    \u001b[0m | \u001b[36m__main__\u001b[0m:\u001b[36mprocess_section_questions\u001b[0m:\u001b[36m18\u001b[0m - \u001b[1mQuestion: What was the dropout rate used for the base model?\u001b[0m\n",
            "\u001b[32m2025-02-04 15:10:34.919\u001b[0m | \u001b[1mINFO    \u001b[0m | \u001b[36m__main__\u001b[0m:\u001b[36mprocess_section_questions\u001b[0m:\u001b[36m10\u001b[0m - \u001b[1mPredicting\u001b[0m\n",
            "\u001b[32m2025-02-04 15:10:34.920\u001b[0m | \u001b[1mINFO    \u001b[0m | \u001b[36m__main__\u001b[0m:\u001b[36mprocess_section_questions\u001b[0m:\u001b[36m18\u001b[0m - \u001b[1mQuestion: In the offline compilation process using nvcc, what happens to the device code? -A: It is directly executed on the host CPU. -B:  It is transformed into assembly and/or binary form. -C:  It is ignored and not used in the final application.\u001b[0m\n",
            "\u001b[32m2025-02-04 15:10:36.194\u001b[0m | \u001b[1mINFO    \u001b[0m | \u001b[36m__main__\u001b[0m:\u001b[36mprocess_section_questions\u001b[0m:\u001b[36m18\u001b[0m - \u001b[1mQuestion: What are the two ways the host code can be output after being processed by nvcc? -A: As executable machine code, or a interpreted scripting language file. -B: As C++ code for later compilation, or as object code directly. -C: As an encrypted file or in a platform specific assembly format.\u001b[0m\n",
            "\u001b[32m2025-02-04 15:10:37.767\u001b[0m | \u001b[1mINFO    \u001b[0m | \u001b[36m__main__\u001b[0m:\u001b[36mprocess_section_questions\u001b[0m:\u001b[36m15\u001b[0m - \u001b[1mWaiting for 60 seconds\u001b[0m\n",
            "\u001b[32m2025-02-04 15:11:37.770\u001b[0m | \u001b[1mINFO    \u001b[0m | \u001b[36m__main__\u001b[0m:\u001b[36mprocess_section_questions\u001b[0m:\u001b[36m18\u001b[0m - \u001b[1mQuestion: What is the primary purpose of just-in-time (JIT) compilation? -A: To convert host code into device code for execution on the GPU. -B: To optimize the performance of host code before it is compiled. -C: To compile PTX code into binary code at runtime by the device driver.\u001b[0m\n",
            "\u001b[32m2025-02-04 15:11:39.293\u001b[0m | \u001b[1mINFO    \u001b[0m | \u001b[36m__main__\u001b[0m:\u001b[36mprocess_section_questions\u001b[0m:\u001b[36m18\u001b[0m - \u001b[1mQuestion: What happens to the compiled binary code after JIT compilation by the device driver? -A: It is cached for later use and to avoid recompilation. -B: It's directly interpreted and doesn't need to be cached. -C: It is deleted after use to save space.\u001b[0m\n",
            "\u001b[32m2025-02-04 15:11:40.539\u001b[0m | \u001b[1mINFO    \u001b[0m | \u001b[36m__main__\u001b[0m:\u001b[36mprocess_section_questions\u001b[0m:\u001b[36m10\u001b[0m - \u001b[1mPredicting\u001b[0m\n",
            "\u001b[32m2025-02-04 15:11:40.541\u001b[0m | \u001b[1mINFO    \u001b[0m | \u001b[36m__main__\u001b[0m:\u001b[36mprocess_section_questions\u001b[0m:\u001b[36m18\u001b[0m - \u001b[1mQuestion: Can you raid the locations of a player that has passed during the action phase?\u001b[0m\n",
            "\u001b[32m2025-02-04 15:11:41.811\u001b[0m | \u001b[1mINFO    \u001b[0m | \u001b[36m__main__\u001b[0m:\u001b[36mprocess_section_questions\u001b[0m:\u001b[36m18\u001b[0m - \u001b[1mQuestion: How many points in the scoreboard must be reached during the Action phase to trigger the final round?\u001b[0m\n",
            "\u001b[32m2025-02-04 15:11:43.033\u001b[0m | \u001b[1mINFO    \u001b[0m | \u001b[36m__main__\u001b[0m:\u001b[36mprocess_section_questions\u001b[0m:\u001b[36m10\u001b[0m - \u001b[1mPredicting\u001b[0m\n",
            "\u001b[32m2025-02-04 15:11:43.036\u001b[0m | \u001b[1mINFO    \u001b[0m | \u001b[36m__main__\u001b[0m:\u001b[36mprocess_section_questions\u001b[0m:\u001b[36m18\u001b[0m - \u001b[1mQuestion: what are the three key elements to consider when establishing accountable practices across the AI lifecycle? -A: Innovation, efficiency, and cost-effectiveness. -B: Answerability, auditability, and liability. -C: Speed, scalability, and security.\u001b[0m\n",
            "\u001b[32m2025-02-04 15:11:44.409\u001b[0m | \u001b[1mINFO    \u001b[0m | \u001b[36m__main__\u001b[0m:\u001b[36mprocess_section_questions\u001b[0m:\u001b[36m18\u001b[0m - \u001b[1mQuestion: What does the text suggest end-users should do when using generative AI for tasks like drafting emails and reports? -A: Assume that the output is inherently accurate and truthful without additional checks. -B:  Assume responsibility for the output and check that it is factually correct, non-discriminatory, and does not violate existing guidelines. -C: Rely on the provider's terms of use for all compliance and accuracy checks.\u001b[0m\n",
            "\u001b[32m2025-02-04 15:11:45.655\u001b[0m | \u001b[1mINFO    \u001b[0m | \u001b[36m__main__\u001b[0m:\u001b[36mprocess_section_questions\u001b[0m:\u001b[36m10\u001b[0m - \u001b[1mPredicting\u001b[0m\n",
            "\u001b[32m2025-02-04 15:11:45.657\u001b[0m | \u001b[1mINFO    \u001b[0m | \u001b[36m__main__\u001b[0m:\u001b[36mprocess_section_questions\u001b[0m:\u001b[36m18\u001b[0m - \u001b[1mQuestion: In which type of parkings must a carbon monoxide detector be installed? -A: indoor -B: underground -C: indoor or underground\u001b[0m\n",
            "\u001b[32m2025-02-04 15:11:46.877\u001b[0m | \u001b[1mINFO    \u001b[0m | \u001b[36m__main__\u001b[0m:\u001b[36mprocess_section_questions\u001b[0m:\u001b[36m10\u001b[0m - \u001b[1mPredicting\u001b[0m\n",
            "\u001b[32m2025-02-04 15:11:46.879\u001b[0m | \u001b[1mINFO    \u001b[0m | \u001b[36m__main__\u001b[0m:\u001b[36mprocess_section_questions\u001b[0m:\u001b[36m18\u001b[0m - \u001b[1mQuestion: Can a player pay coins to compensate for missing skill symbols in a Landmark Tile?\u001b[0m\n",
            "\u001b[32m2025-02-04 15:11:48.277\u001b[0m | \u001b[1mINFO    \u001b[0m | \u001b[36m__main__\u001b[0m:\u001b[36mprocess_section_questions\u001b[0m:\u001b[36m18\u001b[0m - \u001b[1mQuestion: If a player is missing 2 skill symbols, how many coins must they pay to the reserve?\u001b[0m\n",
            "\u001b[32m2025-02-04 15:11:49.548\u001b[0m | \u001b[1mINFO    \u001b[0m | \u001b[36m__main__\u001b[0m:\u001b[36mprocess_section_questions\u001b[0m:\u001b[36m10\u001b[0m - \u001b[1mPredicting\u001b[0m\n",
            "\u001b[32m2025-02-04 15:11:49.550\u001b[0m | \u001b[1mINFO    \u001b[0m | \u001b[36m__main__\u001b[0m:\u001b[36mprocess_section_questions\u001b[0m:\u001b[36m18\u001b[0m - \u001b[1mQuestion: How many different races are there?\u001b[0m\n",
            "\u001b[32m2025-02-04 15:11:51.174\u001b[0m | \u001b[1mINFO    \u001b[0m | \u001b[36m__main__\u001b[0m:\u001b[36mprocess_section_questions\u001b[0m:\u001b[36m15\u001b[0m - \u001b[1mWaiting for 60 seconds\u001b[0m\n",
            "\u001b[32m2025-02-04 15:12:51.175\u001b[0m | \u001b[1mINFO    \u001b[0m | \u001b[36m__main__\u001b[0m:\u001b[36mprocess_section_questions\u001b[0m:\u001b[36m18\u001b[0m - \u001b[1mQuestion: Can you use a symbol more than once per turn?\u001b[0m\n",
            "\u001b[32m2025-02-04 15:12:52.624\u001b[0m | \u001b[1mINFO    \u001b[0m | \u001b[36m__main__\u001b[0m:\u001b[36mprocess_section_questions\u001b[0m:\u001b[36m18\u001b[0m - \u001b[1mQuestion: Which type of cards provide coins? -A: Gray -B: Yellow -C: Blue\u001b[0m\n",
            "\u001b[32m2025-02-04 15:12:54.074\u001b[0m | \u001b[1mINFO    \u001b[0m | \u001b[36m__main__\u001b[0m:\u001b[36mprocess_section_questions\u001b[0m:\u001b[36m18\u001b[0m - \u001b[1mQuestion: During which chapter the purple cards become available? -A: Chapter 1 -B: Chapter 2 -C: Chapter 3\u001b[0m\n",
            "\u001b[32m2025-02-04 15:12:55.296\u001b[0m | \u001b[1mINFO    \u001b[0m | \u001b[36m__main__\u001b[0m:\u001b[36mprocess_section_questions\u001b[0m:\u001b[36m10\u001b[0m - \u001b[1mPredicting\u001b[0m\n",
            "\u001b[32m2025-02-04 15:12:55.298\u001b[0m | \u001b[1mINFO    \u001b[0m | \u001b[36m__main__\u001b[0m:\u001b[36mprocess_section_questions\u001b[0m:\u001b[36m18\u001b[0m - \u001b[1mQuestion: Are Gold Open Access and Green Open Access mutually exclusive.\u001b[0m\n",
            "\u001b[32m2025-02-04 15:12:56.571\u001b[0m | \u001b[1mINFO    \u001b[0m | \u001b[36m__main__\u001b[0m:\u001b[36mprocess_section_questions\u001b[0m:\u001b[36m10\u001b[0m - \u001b[1mPredicting\u001b[0m\n",
            "\u001b[32m2025-02-04 15:12:56.572\u001b[0m | \u001b[1mINFO    \u001b[0m | \u001b[36m__main__\u001b[0m:\u001b[36mprocess_section_questions\u001b[0m:\u001b[36m18\u001b[0m - \u001b[1mQuestion: Which player begins the game? -A: Sauron -B: The Fellowship -C: Other\u001b[0m\n",
            "\u001b[32m2025-02-04 15:12:57.793\u001b[0m | \u001b[1mINFO    \u001b[0m | \u001b[36m__main__\u001b[0m:\u001b[36mprocess_section_questions\u001b[0m:\u001b[36m18\u001b[0m - \u001b[1mQuestion: Can you take a Chapter card and a Landmark tile on your same turn?\u001b[0m\n",
            "\u001b[32m2025-02-04 15:12:59.039\u001b[0m | \u001b[1mINFO    \u001b[0m | \u001b[36m__main__\u001b[0m:\u001b[36mprocess_section_questions\u001b[0m:\u001b[36m18\u001b[0m - \u001b[1mQuestion: How many goins does a player take when discarding a card during Chapter 3?\u001b[0m\n",
            "\u001b[32m2025-02-04 15:13:00.235\u001b[0m | \u001b[1mINFO    \u001b[0m | \u001b[36m__main__\u001b[0m:\u001b[36mprocess_section_questions\u001b[0m:\u001b[36m18\u001b[0m - \u001b[1mQuestion: After taking a landmark tile, do you reveal a new tile and the end of your turn?\u001b[0m\n",
            "\u001b[32m2025-02-04 15:13:01.508\u001b[0m | \u001b[1mINFO    \u001b[0m | \u001b[36m__main__\u001b[0m:\u001b[36mprocess_section_questions\u001b[0m:\u001b[36m10\u001b[0m - \u001b[1mPredicting\u001b[0m\n",
            "\u001b[32m2025-02-04 15:13:01.510\u001b[0m | \u001b[1mINFO    \u001b[0m | \u001b[36m__main__\u001b[0m:\u001b[36mprocess_section_questions\u001b[0m:\u001b[36m18\u001b[0m - \u001b[1mQuestion: Is there a cleanup phase in the final round?\u001b[0m\n",
            "\u001b[32m2025-02-04 15:13:03.110\u001b[0m | \u001b[1mINFO    \u001b[0m | \u001b[36m__main__\u001b[0m:\u001b[36mprocess_section_questions\u001b[0m:\u001b[36m10\u001b[0m - \u001b[1mPredicting\u001b[0m\n",
            "\u001b[32m2025-02-04 15:13:03.112\u001b[0m | \u001b[1mINFO    \u001b[0m | \u001b[36m__main__\u001b[0m:\u001b[36mprocess_section_questions\u001b[0m:\u001b[36m18\u001b[0m - \u001b[1mQuestion: If you place or move an unit and an enemy fortress is present, does it trigger a conflict?\u001b[0m\n",
            "\u001b[32m2025-02-04 15:13:04.384\u001b[0m | \u001b[1mINFO    \u001b[0m | \u001b[36m__main__\u001b[0m:\u001b[36mprocess_section_questions\u001b[0m:\u001b[36m10\u001b[0m - \u001b[1mPredicting\u001b[0m\n",
            "\u001b[32m2025-02-04 15:13:04.386\u001b[0m | \u001b[1mINFO    \u001b[0m | \u001b[36m__main__\u001b[0m:\u001b[36mprocess_section_questions\u001b[0m:\u001b[36m15\u001b[0m - \u001b[1mWaiting for 60 seconds\u001b[0m\n",
            "\u001b[32m2025-02-04 15:14:04.388\u001b[0m | \u001b[1mINFO    \u001b[0m | \u001b[36m__main__\u001b[0m:\u001b[36mprocess_section_questions\u001b[0m:\u001b[36m18\u001b[0m - \u001b[1mQuestion: Can the game end in a tie?\u001b[0m\n",
            "\u001b[32m2025-02-04 15:14:05.789\u001b[0m | \u001b[1mINFO    \u001b[0m | \u001b[36m__main__\u001b[0m:\u001b[36mprocess_section_questions\u001b[0m:\u001b[36m18\u001b[0m - \u001b[1mQuestion: In how many regions do you need to be present to win the game?\u001b[0m\n",
            "\u001b[32m2025-02-04 15:14:07.136\u001b[0m | \u001b[1mINFO    \u001b[0m | \u001b[36m__main__\u001b[0m:\u001b[36mprocess_section_questions\u001b[0m:\u001b[36m10\u001b[0m - \u001b[1mPredicting\u001b[0m\n",
            "\u001b[32m2025-02-04 15:14:07.138\u001b[0m | \u001b[1mINFO    \u001b[0m | \u001b[36m__main__\u001b[0m:\u001b[36mprocess_section_questions\u001b[0m:\u001b[36m18\u001b[0m - \u001b[1mQuestion: Can players conquer and pillage the same island during the expedition phase?\u001b[0m\n",
            "\u001b[32m2025-02-04 15:14:08.737\u001b[0m | \u001b[1mINFO    \u001b[0m | \u001b[36m__main__\u001b[0m:\u001b[36mprocess_section_questions\u001b[0m:\u001b[36m18\u001b[0m - \u001b[1mQuestion: Do you need a fish to conquer a distant island?\u001b[0m\n",
            "\u001b[32m2025-02-04 15:14:10.462\u001b[0m | \u001b[1mINFO    \u001b[0m | \u001b[36m__main__\u001b[0m:\u001b[36mprocess_section_questions\u001b[0m:\u001b[36m18\u001b[0m - \u001b[1mQuestion: How many victory points you get from each conquered island?\u001b[0m\n",
            "\u001b[32m2025-02-04 15:14:11.684\u001b[0m | \u001b[1mINFO    \u001b[0m | \u001b[36m__main__\u001b[0m:\u001b[36mprocess_section_questions\u001b[0m:\u001b[36m10\u001b[0m - \u001b[1mPredicting\u001b[0m\n",
            "\u001b[32m2025-02-04 15:14:11.685\u001b[0m | \u001b[1mINFO    \u001b[0m | \u001b[36m__main__\u001b[0m:\u001b[36mprocess_section_questions\u001b[0m:\u001b[36m18\u001b[0m - \u001b[1mQuestion: Which country had the highest proportion of female bachelor's graduates in informatics, computer science, computer engineering, and information technology among the surveyed European nations? -A: France. -B: Bulgaria. -C: United Kingdom\u001b[0m\n",
            "\u001b[32m2025-02-04 15:14:13.337\u001b[0m | \u001b[1mINFO    \u001b[0m | \u001b[36m__main__\u001b[0m:\u001b[36mprocess_section_questions\u001b[0m:\u001b[36m18\u001b[0m - \u001b[1mQuestion: Which countries reported the smallest proportion of female master's graduates in informatics, CS, CE, and IT as of 2022? -A: Estonia, Romania, and Bulgaria. -B: United Kingdom, Germany, and Switzerland. -C: Belgium, Italy, and Switzerland.\u001b[0m\n",
            "\u001b[32m2025-02-04 15:14:15.014\u001b[0m | \u001b[1mINFO    \u001b[0m | \u001b[36m__main__\u001b[0m:\u001b[36mprocess_section_questions\u001b[0m:\u001b[36m10\u001b[0m - \u001b[1mPredicting\u001b[0m\n",
            "\u001b[32m2025-02-04 15:14:15.016\u001b[0m | \u001b[1mINFO    \u001b[0m | \u001b[36m__main__\u001b[0m:\u001b[36mprocess_section_questions\u001b[0m:\u001b[36m18\u001b[0m - \u001b[1mQuestion: Can the game end in a tie?\u001b[0m\n",
            "\u001b[32m2025-02-04 15:14:16.315\u001b[0m | \u001b[1mINFO    \u001b[0m | \u001b[36m__main__\u001b[0m:\u001b[36mprocess_section_questions\u001b[0m:\u001b[36m18\u001b[0m - \u001b[1mQuestion: If player 1 has 30 Victory points and 4 workers and player 2 has 30 Victory points and 3 workers, who wins the game? -A: Player 1 -B: Player 2 -C: It's a tie\u001b[0m\n",
            "\u001b[32m2025-02-04 15:14:17.638\u001b[0m | \u001b[1mINFO    \u001b[0m | \u001b[36m__main__\u001b[0m:\u001b[36mprocess_section_questions\u001b[0m:\u001b[36m10\u001b[0m - \u001b[1mPredicting\u001b[0m\n",
            "\u001b[32m2025-02-04 15:14:17.640\u001b[0m | \u001b[1mINFO    \u001b[0m | \u001b[36m__main__\u001b[0m:\u001b[36mprocess_section_questions\u001b[0m:\u001b[36m18\u001b[0m - \u001b[1mQuestion: how many peer-reviewed open access journals are indexed by the Directory of Open Access Journals (DOAJ)? -A: Over 10,000 -B: Over 20,000 -C: Exactly 30,000\u001b[0m\n",
            "\u001b[32m2025-02-04 15:14:18.939\u001b[0m | \u001b[1mINFO    \u001b[0m | \u001b[36m__main__\u001b[0m:\u001b[36mprocess_section_questions\u001b[0m:\u001b[36m10\u001b[0m - \u001b[1mPredicting\u001b[0m\n",
            "\u001b[32m2025-02-04 15:14:18.941\u001b[0m | \u001b[1mINFO    \u001b[0m | \u001b[36m__main__\u001b[0m:\u001b[36mprocess_section_questions\u001b[0m:\u001b[36m15\u001b[0m - \u001b[1mWaiting for 60 seconds\u001b[0m\n",
            "\u001b[32m2025-02-04 15:15:18.943\u001b[0m | \u001b[1mINFO    \u001b[0m | \u001b[36m__main__\u001b[0m:\u001b[36mprocess_section_questions\u001b[0m:\u001b[36m18\u001b[0m - \u001b[1mQuestion: What is a major source of inequality in AI related to tokenization? -A: The significant variability in the number of tokens required to represent the same content across different languages. -B: The uniform processing speed of all languages. -C: The consistent cost of inference across different languages.\u001b[0m\n",
            "\u001b[32m2025-02-04 15:15:20.391\u001b[0m | \u001b[1mINFO    \u001b[0m | \u001b[36m__main__\u001b[0m:\u001b[36mprocess_section_questions\u001b[0m:\u001b[36m18\u001b[0m - \u001b[1mQuestion: What are the three major inequalities resulting from variable tokenization? -A: Increased model training costs, limited access to resources, and biased results. -B: Higher inference costs, longer processing times, and reduced available context for the model. -C:  Limited language support, increased hardware requirements, and data bias.\u001b[0m\n",
            "\u001b[32m2025-02-04 15:15:21.864\u001b[0m | \u001b[1mINFO    \u001b[0m | \u001b[36m__main__\u001b[0m:\u001b[36mprocess_section_questions\u001b[0m:\u001b[36m10\u001b[0m - \u001b[1mPredicting\u001b[0m\n",
            "\u001b[32m2025-02-04 15:15:21.865\u001b[0m | \u001b[1mINFO    \u001b[0m | \u001b[36m__main__\u001b[0m:\u001b[36mprocess_section_questions\u001b[0m:\u001b[36m18\u001b[0m - \u001b[1mQuestion: How many victory points are granted by a built Field Location card that work as an upgrade?\u001b[0m\n",
            "\u001b[32m2025-02-04 15:15:23.337\u001b[0m | \u001b[1mINFO    \u001b[0m | \u001b[36m__main__\u001b[0m:\u001b[36mprocess_section_questions\u001b[0m:\u001b[36m18\u001b[0m - \u001b[1mQuestion: Do you need a ship to be on the expedition board to use a card that allows to pillage or conquer right away?\u001b[0m\n",
            "\u001b[32m2025-02-04 15:15:24.887\u001b[0m | \u001b[1mINFO    \u001b[0m | \u001b[36m__main__\u001b[0m:\u001b[36mprocess_section_questions\u001b[0m:\u001b[36m10\u001b[0m - \u001b[1mPredicting\u001b[0m\n",
            "\u001b[32m2025-02-04 15:15:24.889\u001b[0m | \u001b[1mINFO    \u001b[0m | \u001b[36m__main__\u001b[0m:\u001b[36mprocess_section_questions\u001b[0m:\u001b[36m18\u001b[0m - \u001b[1mQuestion: What is the maximum number of cards a player may acquire during the lookout phase?\u001b[0m\n",
            "\u001b[32m2025-02-04 15:15:26.186\u001b[0m | \u001b[1mINFO    \u001b[0m | \u001b[36m__main__\u001b[0m:\u001b[36mprocess_section_questions\u001b[0m:\u001b[36m18\u001b[0m - \u001b[1mQuestion: Is there a limit to the number of cards a player may have in their hand?\u001b[0m\n",
            "\u001b[32m2025-02-04 15:15:27.459\u001b[0m | \u001b[1mINFO    \u001b[0m | \u001b[36m__main__\u001b[0m:\u001b[36mprocess_section_questions\u001b[0m:\u001b[36m10\u001b[0m - \u001b[1mPredicting\u001b[0m\n",
            "\u001b[32m2025-02-04 15:15:27.461\u001b[0m | \u001b[1mINFO    \u001b[0m | \u001b[36m__main__\u001b[0m:\u001b[36mprocess_section_questions\u001b[0m:\u001b[36m18\u001b[0m - \u001b[1mQuestion: By how much can LoRA reduce GPU memory requirements during training? -A: 10x, -B: 5x, -C: 3x\u001b[0m\n",
            "\u001b[32m2025-02-04 15:15:29.292\u001b[0m | \u001b[1mINFO    \u001b[0m | \u001b[36m__main__\u001b[0m:\u001b[36mprocess_section_questions\u001b[0m:\u001b[36m10\u001b[0m - \u001b[1mPredicting\u001b[0m\n",
            "\u001b[32m2025-02-04 15:15:29.293\u001b[0m | \u001b[1mINFO    \u001b[0m | \u001b[36m__main__\u001b[0m:\u001b[36mprocess_section_questions\u001b[0m:\u001b[36m18\u001b[0m - \u001b[1mQuestion: Which of the following is not considered a limitation of the Large Language Models? -A: Hallucination -B: Explainability -C: Memorization\u001b[0m\n",
            "\u001b[32m2025-02-04 15:15:30.690\u001b[0m | \u001b[1mINFO    \u001b[0m | \u001b[36m__main__\u001b[0m:\u001b[36mprocess_section_questions\u001b[0m:\u001b[36m18\u001b[0m - \u001b[1mQuestion: Can LLMs be used as an alternative to visiting a doctor?\u001b[0m\n",
            "\u001b[32m2025-02-04 15:15:32.113\u001b[0m | \u001b[1mINFO    \u001b[0m | \u001b[36m__main__\u001b[0m:\u001b[36mprocess_section_questions\u001b[0m:\u001b[36m10\u001b[0m - \u001b[1mPredicting\u001b[0m\n",
            "\u001b[32m2025-02-04 15:15:32.115\u001b[0m | \u001b[1mINFO    \u001b[0m | \u001b[36m__main__\u001b[0m:\u001b[36mprocess_section_questions\u001b[0m:\u001b[36m18\u001b[0m - \u001b[1mQuestion: Are publication fees required for all open access journals?\u001b[0m\n",
            "\u001b[32m2025-02-04 15:15:33.690\u001b[0m | \u001b[1mINFO    \u001b[0m | \u001b[36m__main__\u001b[0m:\u001b[36mprocess_section_questions\u001b[0m:\u001b[36m10\u001b[0m - \u001b[1mPredicting\u001b[0m\n",
            "\u001b[32m2025-02-04 15:15:33.692\u001b[0m | \u001b[1mINFO    \u001b[0m | \u001b[36m__main__\u001b[0m:\u001b[36mprocess_section_questions\u001b[0m:\u001b[36m15\u001b[0m - \u001b[1mWaiting for 60 seconds\u001b[0m\n",
            "\u001b[32m2025-02-04 15:16:33.695\u001b[0m | \u001b[1mINFO    \u001b[0m | \u001b[36m__main__\u001b[0m:\u001b[36mprocess_section_questions\u001b[0m:\u001b[36m18\u001b[0m - \u001b[1mQuestion: How many chapters does the game last?\u001b[0m\n",
            "\u001b[32m2025-02-04 15:16:35.599\u001b[0m | \u001b[1mINFO    \u001b[0m | \u001b[36m__main__\u001b[0m:\u001b[36mprocess_section_questions\u001b[0m:\u001b[36m18\u001b[0m - \u001b[1mQuestion: How many victory conditions are there?\u001b[0m\n",
            "\u001b[32m2025-02-04 15:16:37.024\u001b[0m | \u001b[1mINFO    \u001b[0m | \u001b[36m__main__\u001b[0m:\u001b[36mprocess_section_questions\u001b[0m:\u001b[36m10\u001b[0m - \u001b[1mPredicting\u001b[0m\n",
            "\u001b[32m2025-02-04 15:16:37.026\u001b[0m | \u001b[1mINFO    \u001b[0m | \u001b[36m__main__\u001b[0m:\u001b[36mprocess_section_questions\u001b[0m:\u001b[36m18\u001b[0m - \u001b[1mQuestion: Which of the following is NOT mentioned as a relevant legal or regulatory provision regarding the use of AI technologies? -A: UK data protection law -B: The Online Safety Act -C: Digital, Data and Technology (DDaT) Playbook?\u001b[0m\n",
            "\u001b[32m2025-02-04 15:16:38.505\u001b[0m | \u001b[1mINFO    \u001b[0m | \u001b[36m__main__\u001b[0m:\u001b[36mprocess_section_questions\u001b[0m:\u001b[36m10\u001b[0m - \u001b[1mPredicting\u001b[0m\n",
            "\u001b[32m2025-02-04 15:16:38.506\u001b[0m | \u001b[1mINFO    \u001b[0m | \u001b[36m__main__\u001b[0m:\u001b[36mprocess_section_questions\u001b[0m:\u001b[36m18\u001b[0m - \u001b[1mQuestion: Can you use the raid action without a Raze token?\u001b[0m\n",
            "\u001b[32m2025-02-04 15:16:40.258\u001b[0m | \u001b[1mINFO    \u001b[0m | \u001b[36m__main__\u001b[0m:\u001b[36mprocess_section_questions\u001b[0m:\u001b[36m10\u001b[0m - \u001b[1mPredicting\u001b[0m\n",
            "\u001b[32m2025-02-04 15:16:40.260\u001b[0m | \u001b[1mINFO    \u001b[0m | \u001b[36m__main__\u001b[0m:\u001b[36mprocess_section_questions\u001b[0m:\u001b[36m18\u001b[0m - \u001b[1mQuestion: which type of risk was identified as the leading concern globally? -A: Fairness risks. -B: Privacy and data governance risks. -C: Risks related to generative AI deployment.\u001b[0m\n",
            "\u001b[32m2025-02-04 15:16:41.708\u001b[0m | \u001b[1mINFO    \u001b[0m | \u001b[36m__main__\u001b[0m:\u001b[36mprocess_section_questions\u001b[0m:\u001b[36m18\u001b[0m - \u001b[1mQuestion: In which geographical area were fairness risks selected by the smallest percentage of respondents? -A: Asia. -B: Europe. -C: North America.\u001b[0m\n",
            "\u001b[32m2025-02-04 15:16:42.954\u001b[0m | \u001b[1mINFO    \u001b[0m | \u001b[36m__main__\u001b[0m:\u001b[36mprocess_section_questions\u001b[0m:\u001b[36m10\u001b[0m - \u001b[1mPredicting\u001b[0m\n",
            "\u001b[32m2025-02-04 15:16:42.956\u001b[0m | \u001b[1mINFO    \u001b[0m | \u001b[36m__main__\u001b[0m:\u001b[36mprocess_section_questions\u001b[0m:\u001b[36m18\u001b[0m - \u001b[1mQuestion: According to the guide, what is the typical license used to grant reuse rights with libre open access? -A: GNU General Public License -B: Creative Commons license -C: MIT license\u001b[0m\n",
            "\u001b[32m2025-02-04 15:16:44.278\u001b[0m | \u001b[1mINFO    \u001b[0m | \u001b[36m__main__\u001b[0m:\u001b[36mprocess_section_questions\u001b[0m:\u001b[36m18\u001b[0m - \u001b[1mQuestion: Does open access eliminate price barriers?\u001b[0m\n",
            "\u001b[32m2025-02-04 15:16:45.852\u001b[0m | \u001b[1mINFO    \u001b[0m | \u001b[36m__main__\u001b[0m:\u001b[36mprocess_section_questions\u001b[0m:\u001b[36m10\u001b[0m - \u001b[1mPredicting\u001b[0m\n",
            "\u001b[32m2025-02-04 15:16:45.854\u001b[0m | \u001b[1mINFO    \u001b[0m | \u001b[36m__main__\u001b[0m:\u001b[36mprocess_section_questions\u001b[0m:\u001b[36m18\u001b[0m - \u001b[1mQuestion: What is a major consequence of the rising training costs for foundation models? -A: The exclusion of universities from developing leading-edge foundation models. -B: Increased collaboration between universities and AI companies. -C: A decrease in the number of policy initiatives related to AI research.\u001b[0m\n",
            "\u001b[32m2025-02-04 15:16:47.377\u001b[0m | \u001b[1mINFO    \u001b[0m | \u001b[36m__main__\u001b[0m:\u001b[36mprocess_section_questions\u001b[0m:\u001b[36m18\u001b[0m - \u001b[1mQuestion: How the AI Index and Epoch AI estimated training costs for foundation models? -A: By surveying AI companies on their reported expenses. -B: By analyzing government funding allocated to AI research. -C: By analyzing training duration, hardware type, quantity, and utilization rate.\u001b[0m\n",
            "\u001b[32m2025-02-04 15:16:48.827\u001b[0m | \u001b[1mINFO    \u001b[0m | \u001b[36m__main__\u001b[0m:\u001b[36mprocess_section_questions\u001b[0m:\u001b[36m10\u001b[0m - \u001b[1mPredicting\u001b[0m\n",
            "\u001b[32m2025-02-04 15:16:48.829\u001b[0m | \u001b[1mINFO    \u001b[0m | \u001b[36m__main__\u001b[0m:\u001b[36mprocess_section_questions\u001b[0m:\u001b[36m15\u001b[0m - \u001b[1mWaiting for 60 seconds\u001b[0m\n",
            "\u001b[32m2025-02-04 15:17:48.832\u001b[0m | \u001b[1mINFO    \u001b[0m | \u001b[36m__main__\u001b[0m:\u001b[36mprocess_section_questions\u001b[0m:\u001b[36m18\u001b[0m - \u001b[1mQuestion: How many AI-related regulations were enacted in the United States in 2023?\u001b[0m\n",
            "\u001b[32m2025-02-04 15:17:50.811\u001b[0m | \u001b[1mINFO    \u001b[0m | \u001b[36m__main__\u001b[0m:\u001b[36mprocess_section_questions\u001b[0m:\u001b[36m18\u001b[0m - \u001b[1mQuestion: Which of the following was identified as a high relevance AI regulation? -A: Securities and Exchange Commission’s Cybersecurity Risk Management Strategy. -B: Copyright Office and Library of Congress’ Copyright Registration Guidance. -C: Regulations related to foreign trade and international finance\u001b[0m\n",
            "\u001b[32m2025-02-04 15:17:52.235\u001b[0m | \u001b[1mINFO    \u001b[0m | \u001b[36m__main__\u001b[0m:\u001b[36mprocess_section_questions\u001b[0m:\u001b[36m10\u001b[0m - \u001b[1mPredicting\u001b[0m\n",
            "\u001b[32m2025-02-04 15:17:52.237\u001b[0m | \u001b[1mINFO    \u001b[0m | \u001b[36m__main__\u001b[0m:\u001b[36mprocess_section_questions\u001b[0m:\u001b[36m18\u001b[0m - \u001b[1mQuestion: In what year did the Bill and Melinda Gates foundation implement an open access policy?\u001b[0m\n"
          ]
        }
      ],
      "source": [
        "from pathlib import Path\n",
        "\n",
        "import pandas as pd\n",
        "\n",
        "\n",
        "logger.info(\"Loading input data\")\n",
        "data = pd.read_csv(\"structured-qa/benchmark/structured_qa.csv\")\n",
        "data[\"pred_answer\"] = [None] * len(data)\n",
        "data[\"pred_section\"] = [None] * len(data)\n",
        "\n",
        "for section_name, section_data in data.groupby(\"section\"):\n",
        "    section_file = Path(f\"structured-qa/benchmark/perfect_context/{section_name}.txt\")\n",
        "\n",
        "    answers, sections = process_section_questions(section_file, section_data, model)\n",
        "\n",
        "    for index in section_data.index:\n",
        "        data.loc[index, \"pred_answer\"] = str(answers[index]).upper()\n",
        "        data.loc[index, \"pred_section\"] = sections[index]\n",
        "\n",
        "data.to_csv(\"results.csv\")"
      ]
    },
    {
      "cell_type": "markdown",
      "metadata": {
        "id": "a9eMkW1-lyha"
      },
      "source": [
        "# Results"
      ]
    },
    {
      "cell_type": "code",
      "execution_count": 23,
      "metadata": {
        "colab": {
          "base_uri": "https://localhost:8080/",
          "height": 175
        },
        "id": "EYYJgWf6lyha",
        "outputId": "7e1d48f5-8520-4ee1-a900-092b41cbc1dd"
      },
      "outputs": [
        {
          "data": {
            "application/vnd.google.colaboratory.intrinsic+json": {
              "summary": "{\n  \"name\": \"results\",\n  \"rows\": 4,\n  \"fields\": [\n    {\n      \"column\": \"Unnamed: 0\",\n      \"properties\": {\n        \"dtype\": \"number\",\n        \"std\": 39,\n        \"min\": 10,\n        \"max\": 94,\n        \"num_unique_values\": 4,\n        \"samples\": [\n          51,\n          94,\n          10\n        ],\n        \"semantic_type\": \"\",\n        \"description\": \"\"\n      }\n    },\n    {\n      \"column\": \"document\",\n      \"properties\": {\n        \"dtype\": \"string\",\n        \"num_unique_values\": 3,\n        \"samples\": [\n          \"https://arxiv.org/pdf/1706.03762\",\n          \"https://github.com/mozilla-ai/structured-qa/releases/download/0.3.2/is_eotn_rulebook.pdf\",\n          \"https://arxiv.org/pdf/2302.13971\"\n        ],\n        \"semantic_type\": \"\",\n        \"description\": \"\"\n      }\n    },\n    {\n      \"column\": \"type\",\n      \"properties\": {\n        \"dtype\": \"string\",\n        \"num_unique_values\": 3,\n        \"samples\": [\n          \"Scientific Paper\",\n          \"Board Game\",\n          \"Scientific Report\"\n        ],\n        \"semantic_type\": \"\",\n        \"description\": \"\"\n      }\n    },\n    {\n      \"column\": \"section\",\n      \"properties\": {\n        \"dtype\": \"string\",\n        \"num_unique_values\": 4,\n        \"samples\": [\n          \"LOOKOUT PHASE\",\n          \"3 Main results\",\n          \"5.4 Regularization\"\n        ],\n        \"semantic_type\": \"\",\n        \"description\": \"\"\n      }\n    },\n    {\n      \"column\": \"question\",\n      \"properties\": {\n        \"dtype\": \"string\",\n        \"num_unique_values\": 4,\n        \"samples\": [\n          \"Is there a limit to the number of cards a player may have in their hand?\",\n          \"Was the model compared against GPT-4?\",\n          \"What was the dropout rate used for the base model?\"\n        ],\n        \"semantic_type\": \"\",\n        \"description\": \"\"\n      }\n    },\n    {\n      \"column\": \"answer\",\n      \"properties\": {\n        \"dtype\": \"string\",\n        \"num_unique_values\": 2,\n        \"samples\": [\n          \"NO\",\n          \"0.1\"\n        ],\n        \"semantic_type\": \"\",\n        \"description\": \"\"\n      }\n    },\n    {\n      \"column\": \"pred_answer\",\n      \"properties\": {\n        \"dtype\": \"string\",\n        \"num_unique_values\": 3,\n        \"samples\": [\n          \"0.  1\",\n          \"YES\"\n        ],\n        \"semantic_type\": \"\",\n        \"description\": \"\"\n      }\n    },\n    {\n      \"column\": \"pred_section\",\n      \"properties\": {\n        \"dtype\": \"number\",\n        \"std\": null,\n        \"min\": null,\n        \"max\": null,\n        \"num_unique_values\": 0,\n        \"samples\": [],\n        \"semantic_type\": \"\",\n        \"description\": \"\"\n      }\n    }\n  ]\n}",
              "type": "dataframe"
            },
            "text/html": [
              "\n",
              "  <div id=\"df-68a4978c-a3df-4e33-b3f7-a951aa2add4b\" class=\"colab-df-container\">\n",
              "    <div>\n",
              "<style scoped>\n",
              "    .dataframe tbody tr th:only-of-type {\n",
              "        vertical-align: middle;\n",
              "    }\n",
              "\n",
              "    .dataframe tbody tr th {\n",
              "        vertical-align: top;\n",
              "    }\n",
              "\n",
              "    .dataframe thead th {\n",
              "        text-align: right;\n",
              "    }\n",
              "</style>\n",
              "<table border=\"1\" class=\"dataframe\">\n",
              "  <thead>\n",
              "    <tr style=\"text-align: right;\">\n",
              "      <th></th>\n",
              "      <th>Unnamed: 0</th>\n",
              "      <th>document</th>\n",
              "      <th>type</th>\n",
              "      <th>section</th>\n",
              "      <th>question</th>\n",
              "      <th>answer</th>\n",
              "      <th>pred_answer</th>\n",
              "      <th>pred_section</th>\n",
              "    </tr>\n",
              "  </thead>\n",
              "  <tbody>\n",
              "    <tr>\n",
              "      <th>10</th>\n",
              "      <td>10</td>\n",
              "      <td>https://arxiv.org/pdf/1706.03762</td>\n",
              "      <td>Scientific Paper</td>\n",
              "      <td>5.4 Regularization</td>\n",
              "      <td>What was the dropout rate used for the base mo...</td>\n",
              "      <td>0.1</td>\n",
              "      <td>0.  1</td>\n",
              "      <td>NaN</td>\n",
              "    </tr>\n",
              "    <tr>\n",
              "      <th>51</th>\n",
              "      <td>51</td>\n",
              "      <td>https://github.com/mozilla-ai/structured-qa/re...</td>\n",
              "      <td>Board Game</td>\n",
              "      <td>LOOKOUT PHASE</td>\n",
              "      <td>Is there a limit to the number of cards a play...</td>\n",
              "      <td>NO</td>\n",
              "      <td>YES</td>\n",
              "      <td>NaN</td>\n",
              "    </tr>\n",
              "    <tr>\n",
              "      <th>92</th>\n",
              "      <td>92</td>\n",
              "      <td>https://arxiv.org/pdf/2302.13971</td>\n",
              "      <td>Scientific Report</td>\n",
              "      <td>2.3 Optimizer</td>\n",
              "      <td>What value was used for the weight decay?</td>\n",
              "      <td>0.1</td>\n",
              "      <td>0.  1</td>\n",
              "      <td>NaN</td>\n",
              "    </tr>\n",
              "    <tr>\n",
              "      <th>94</th>\n",
              "      <td>94</td>\n",
              "      <td>https://arxiv.org/pdf/2302.13971</td>\n",
              "      <td>Scientific Report</td>\n",
              "      <td>3 Main results</td>\n",
              "      <td>Was the model compared against GPT-4?</td>\n",
              "      <td>NO</td>\n",
              "      <td>I NEED MORE INFO</td>\n",
              "      <td>NaN</td>\n",
              "    </tr>\n",
              "  </tbody>\n",
              "</table>\n",
              "</div>\n",
              "    <div class=\"colab-df-buttons\">\n",
              "\n",
              "  <div class=\"colab-df-container\">\n",
              "    <button class=\"colab-df-convert\" onclick=\"convertToInteractive('df-68a4978c-a3df-4e33-b3f7-a951aa2add4b')\"\n",
              "            title=\"Convert this dataframe to an interactive table.\"\n",
              "            style=\"display:none;\">\n",
              "\n",
              "  <svg xmlns=\"http://www.w3.org/2000/svg\" height=\"24px\" viewBox=\"0 -960 960 960\">\n",
              "    <path d=\"M120-120v-720h720v720H120Zm60-500h600v-160H180v160Zm220 220h160v-160H400v160Zm0 220h160v-160H400v160ZM180-400h160v-160H180v160Zm440 0h160v-160H620v160ZM180-180h160v-160H180v160Zm440 0h160v-160H620v160Z\"/>\n",
              "  </svg>\n",
              "    </button>\n",
              "\n",
              "  <style>\n",
              "    .colab-df-container {\n",
              "      display:flex;\n",
              "      gap: 12px;\n",
              "    }\n",
              "\n",
              "    .colab-df-convert {\n",
              "      background-color: #E8F0FE;\n",
              "      border: none;\n",
              "      border-radius: 50%;\n",
              "      cursor: pointer;\n",
              "      display: none;\n",
              "      fill: #1967D2;\n",
              "      height: 32px;\n",
              "      padding: 0 0 0 0;\n",
              "      width: 32px;\n",
              "    }\n",
              "\n",
              "    .colab-df-convert:hover {\n",
              "      background-color: #E2EBFA;\n",
              "      box-shadow: 0px 1px 2px rgba(60, 64, 67, 0.3), 0px 1px 3px 1px rgba(60, 64, 67, 0.15);\n",
              "      fill: #174EA6;\n",
              "    }\n",
              "\n",
              "    .colab-df-buttons div {\n",
              "      margin-bottom: 4px;\n",
              "    }\n",
              "\n",
              "    [theme=dark] .colab-df-convert {\n",
              "      background-color: #3B4455;\n",
              "      fill: #D2E3FC;\n",
              "    }\n",
              "\n",
              "    [theme=dark] .colab-df-convert:hover {\n",
              "      background-color: #434B5C;\n",
              "      box-shadow: 0px 1px 3px 1px rgba(0, 0, 0, 0.15);\n",
              "      filter: drop-shadow(0px 1px 2px rgba(0, 0, 0, 0.3));\n",
              "      fill: #FFFFFF;\n",
              "    }\n",
              "  </style>\n",
              "\n",
              "    <script>\n",
              "      const buttonEl =\n",
              "        document.querySelector('#df-68a4978c-a3df-4e33-b3f7-a951aa2add4b button.colab-df-convert');\n",
              "      buttonEl.style.display =\n",
              "        google.colab.kernel.accessAllowed ? 'block' : 'none';\n",
              "\n",
              "      async function convertToInteractive(key) {\n",
              "        const element = document.querySelector('#df-68a4978c-a3df-4e33-b3f7-a951aa2add4b');\n",
              "        const dataTable =\n",
              "          await google.colab.kernel.invokeFunction('convertToInteractive',\n",
              "                                                    [key], {});\n",
              "        if (!dataTable) return;\n",
              "\n",
              "        const docLinkHtml = 'Like what you see? Visit the ' +\n",
              "          '<a target=\"_blank\" href=https://colab.research.google.com/notebooks/data_table.ipynb>data table notebook</a>'\n",
              "          + ' to learn more about interactive tables.';\n",
              "        element.innerHTML = '';\n",
              "        dataTable['output_type'] = 'display_data';\n",
              "        await google.colab.output.renderOutput(dataTable, element);\n",
              "        const docLink = document.createElement('div');\n",
              "        docLink.innerHTML = docLinkHtml;\n",
              "        element.appendChild(docLink);\n",
              "      }\n",
              "    </script>\n",
              "  </div>\n",
              "\n",
              "\n",
              "<div id=\"df-28ec0572-0375-49d1-83d3-a505a907748d\">\n",
              "  <button class=\"colab-df-quickchart\" onclick=\"quickchart('df-28ec0572-0375-49d1-83d3-a505a907748d')\"\n",
              "            title=\"Suggest charts\"\n",
              "            style=\"display:none;\">\n",
              "\n",
              "<svg xmlns=\"http://www.w3.org/2000/svg\" height=\"24px\"viewBox=\"0 0 24 24\"\n",
              "     width=\"24px\">\n",
              "    <g>\n",
              "        <path d=\"M19 3H5c-1.1 0-2 .9-2 2v14c0 1.1.9 2 2 2h14c1.1 0 2-.9 2-2V5c0-1.1-.9-2-2-2zM9 17H7v-7h2v7zm4 0h-2V7h2v10zm4 0h-2v-4h2v4z\"/>\n",
              "    </g>\n",
              "</svg>\n",
              "  </button>\n",
              "\n",
              "<style>\n",
              "  .colab-df-quickchart {\n",
              "      --bg-color: #E8F0FE;\n",
              "      --fill-color: #1967D2;\n",
              "      --hover-bg-color: #E2EBFA;\n",
              "      --hover-fill-color: #174EA6;\n",
              "      --disabled-fill-color: #AAA;\n",
              "      --disabled-bg-color: #DDD;\n",
              "  }\n",
              "\n",
              "  [theme=dark] .colab-df-quickchart {\n",
              "      --bg-color: #3B4455;\n",
              "      --fill-color: #D2E3FC;\n",
              "      --hover-bg-color: #434B5C;\n",
              "      --hover-fill-color: #FFFFFF;\n",
              "      --disabled-bg-color: #3B4455;\n",
              "      --disabled-fill-color: #666;\n",
              "  }\n",
              "\n",
              "  .colab-df-quickchart {\n",
              "    background-color: var(--bg-color);\n",
              "    border: none;\n",
              "    border-radius: 50%;\n",
              "    cursor: pointer;\n",
              "    display: none;\n",
              "    fill: var(--fill-color);\n",
              "    height: 32px;\n",
              "    padding: 0;\n",
              "    width: 32px;\n",
              "  }\n",
              "\n",
              "  .colab-df-quickchart:hover {\n",
              "    background-color: var(--hover-bg-color);\n",
              "    box-shadow: 0 1px 2px rgba(60, 64, 67, 0.3), 0 1px 3px 1px rgba(60, 64, 67, 0.15);\n",
              "    fill: var(--button-hover-fill-color);\n",
              "  }\n",
              "\n",
              "  .colab-df-quickchart-complete:disabled,\n",
              "  .colab-df-quickchart-complete:disabled:hover {\n",
              "    background-color: var(--disabled-bg-color);\n",
              "    fill: var(--disabled-fill-color);\n",
              "    box-shadow: none;\n",
              "  }\n",
              "\n",
              "  .colab-df-spinner {\n",
              "    border: 2px solid var(--fill-color);\n",
              "    border-color: transparent;\n",
              "    border-bottom-color: var(--fill-color);\n",
              "    animation:\n",
              "      spin 1s steps(1) infinite;\n",
              "  }\n",
              "\n",
              "  @keyframes spin {\n",
              "    0% {\n",
              "      border-color: transparent;\n",
              "      border-bottom-color: var(--fill-color);\n",
              "      border-left-color: var(--fill-color);\n",
              "    }\n",
              "    20% {\n",
              "      border-color: transparent;\n",
              "      border-left-color: var(--fill-color);\n",
              "      border-top-color: var(--fill-color);\n",
              "    }\n",
              "    30% {\n",
              "      border-color: transparent;\n",
              "      border-left-color: var(--fill-color);\n",
              "      border-top-color: var(--fill-color);\n",
              "      border-right-color: var(--fill-color);\n",
              "    }\n",
              "    40% {\n",
              "      border-color: transparent;\n",
              "      border-right-color: var(--fill-color);\n",
              "      border-top-color: var(--fill-color);\n",
              "    }\n",
              "    60% {\n",
              "      border-color: transparent;\n",
              "      border-right-color: var(--fill-color);\n",
              "    }\n",
              "    80% {\n",
              "      border-color: transparent;\n",
              "      border-right-color: var(--fill-color);\n",
              "      border-bottom-color: var(--fill-color);\n",
              "    }\n",
              "    90% {\n",
              "      border-color: transparent;\n",
              "      border-bottom-color: var(--fill-color);\n",
              "    }\n",
              "  }\n",
              "</style>\n",
              "\n",
              "  <script>\n",
              "    async function quickchart(key) {\n",
              "      const quickchartButtonEl =\n",
              "        document.querySelector('#' + key + ' button');\n",
              "      quickchartButtonEl.disabled = true;  // To prevent multiple clicks.\n",
              "      quickchartButtonEl.classList.add('colab-df-spinner');\n",
              "      try {\n",
              "        const charts = await google.colab.kernel.invokeFunction(\n",
              "            'suggestCharts', [key], {});\n",
              "      } catch (error) {\n",
              "        console.error('Error during call to suggestCharts:', error);\n",
              "      }\n",
              "      quickchartButtonEl.classList.remove('colab-df-spinner');\n",
              "      quickchartButtonEl.classList.add('colab-df-quickchart-complete');\n",
              "    }\n",
              "    (() => {\n",
              "      let quickchartButtonEl =\n",
              "        document.querySelector('#df-28ec0572-0375-49d1-83d3-a505a907748d button');\n",
              "      quickchartButtonEl.style.display =\n",
              "        google.colab.kernel.accessAllowed ? 'block' : 'none';\n",
              "    })();\n",
              "  </script>\n",
              "</div>\n",
              "\n",
              "    </div>\n",
              "  </div>\n"
            ],
            "text/plain": [
              "    Unnamed: 0                                           document  \\\n",
              "10          10                   https://arxiv.org/pdf/1706.03762   \n",
              "51          51  https://github.com/mozilla-ai/structured-qa/re...   \n",
              "92          92                   https://arxiv.org/pdf/2302.13971   \n",
              "94          94                   https://arxiv.org/pdf/2302.13971   \n",
              "\n",
              "                 type             section  \\\n",
              "10   Scientific Paper  5.4 Regularization   \n",
              "51         Board Game       LOOKOUT PHASE   \n",
              "92  Scientific Report       2.3 Optimizer   \n",
              "94  Scientific Report      3 Main results   \n",
              "\n",
              "                                             question answer  \\\n",
              "10  What was the dropout rate used for the base mo...    0.1   \n",
              "51  Is there a limit to the number of cards a play...     NO   \n",
              "92          What value was used for the weight decay?    0.1   \n",
              "94              Was the model compared against GPT-4?     NO   \n",
              "\n",
              "         pred_answer  pred_section  \n",
              "10             0.  1           NaN  \n",
              "51               YES           NaN  \n",
              "92             0.  1           NaN  \n",
              "94  I NEED MORE INFO           NaN  "
            ]
          },
          "execution_count": 23,
          "metadata": {},
          "output_type": "execute_result"
        }
      ],
      "source": [
        "results = pd.read_csv(\"results.csv\")\n",
        "for index, result in results.iterrows():\n",
        "    results.loc[index, \"pred_answer\"] = result[\"pred_answer\"].strip()\n",
        "    if result[\"pred_answer\"].startswith(\n",
        "        (f\"-{result['answer']}\", f\"{result['answer']}\")\n",
        "    ):\n",
        "        results.loc[index, \"pred_answer\"] = result[\"answer\"]\n",
        "results.loc[results[\"answer\"] != results[\"pred_answer\"]]"
      ]
    },
    {
      "cell_type": "code",
      "execution_count": 24,
      "metadata": {
        "colab": {
          "base_uri": "https://localhost:8080/"
        },
        "id": "wfz1XQDLlyha",
        "outputId": "d7fe455b-9b4a-420e-df94-18dfde852bae"
      },
      "outputs": [
        {
          "data": {
            "text/plain": [
              "0.9611650485436893"
            ]
          },
          "execution_count": 24,
          "metadata": {},
          "output_type": "execute_result"
        }
      ],
      "source": [
        "accuracy = sum(results[\"answer\"] == results[\"pred_answer\"]) / len(results)\n",
        "accuracy"
      ]
    }
  ],
  "metadata": {
    "colab": {
      "provenance": []
    },
    "kernelspec": {
      "display_name": ".venv",
      "language": "python",
      "name": "python3"
    },
    "language_info": {
      "name": "python",
      "version": "3.10.12"
    }
  },
  "nbformat": 4,
  "nbformat_minor": 0
}
