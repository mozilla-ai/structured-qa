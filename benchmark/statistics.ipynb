{
 "cells": [
  {
   "cell_type": "code",
   "execution_count": 2,
   "metadata": {},
   "outputs": [],
   "source": [
    "from pathlib import Path\n",
    "from urllib.request import urlretrieve\n",
    "\n",
    "import pandas as pd\n",
    "import plotly.express as px\n",
    "from loguru import logger\n",
    "\n",
    "from structured_qa.preprocessing import document_to_sections_dir\n"
   ]
  },
  {
   "cell_type": "code",
   "execution_count": null,
   "metadata": {},
   "outputs": [],
   "source": [
    "data = pd.read_csv(\"structured_qa.csv\")\n",
    "\n",
    "n_characters = []\n",
    "n_sections = []\n",
    "n_questions = []\n",
    "for document_link, document_data in data.groupby(\"document\"):\n",
    "    downloaded_document = Path(f\"{Path(document_link).name}.pdf\")\n",
    "    if not Path(downloaded_document).exists():\n",
    "        urlretrieve(document_link, downloaded_document)\n",
    "    logger.info(f\"Downloaded {document_link} to {downloaded_document}\")\n",
    "    n_characters.append(len(downloaded_document.read_text().strip()))\n",
    "    sections = document_to_sections_dir(downloaded_document, \"/tmp/sections\")\n",
    "    n_sections.append(len(sections))\n",
    "    n_questions.append(len(document_data))\n",
    "    logger.info(f\"N sections: {len(sections)}\")\n",
    "    logger.info(f\"N questions: {len(document_data)}\")"
   ]
  },
  {
   "cell_type": "code",
   "execution_count": null,
   "metadata": {},
   "outputs": [],
   "source": []
  }
 ],
 "metadata": {
  "kernelspec": {
   "display_name": ".venv",
   "language": "python",
   "name": "python3"
  },
  "language_info": {
   "codemirror_mode": {
    "name": "ipython",
    "version": 3
   },
   "file_extension": ".py",
   "mimetype": "text/x-python",
   "name": "python",
   "nbconvert_exporter": "python",
   "pygments_lexer": "ipython3",
   "version": "3.10.12"
  }
 },
 "nbformat": 4,
 "nbformat_minor": 2
}
